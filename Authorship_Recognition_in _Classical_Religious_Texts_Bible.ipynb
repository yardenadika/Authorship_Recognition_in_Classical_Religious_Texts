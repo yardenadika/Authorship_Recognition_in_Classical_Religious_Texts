{
 "cells": [
  {
   "cell_type": "code",
   "execution_count": 97,
   "metadata": {
    "id": "A-JedffvORp7"
   },
   "outputs": [],
   "source": [
    "import os, random, seaborn as sb\n",
    "import numpy as np, matplotlib.pyplot as plt\n",
    "import pandas as pd, itertools\n",
    "from sklearn.metrics import confusion_matrix"
   ]
  },
  {
   "cell_type": "markdown",
   "metadata": {
    "id": "rmoPbGHZORq0"
   },
   "source": [
    "## Read the dataset  files"
   ]
  },
  {
   "cell_type": "markdown",
   "metadata": {
    "id": "V1Fzl_sVORq2"
   },
   "source": [
    "#### Working with Bible related Data"
   ]
  },
  {
   "cell_type": "code",
   "execution_count": 98,
   "metadata": {
    "id": "-htExj4VORq3"
   },
   "outputs": [],
   "source": [
    "colab_path = \"C:/Users/yadik/Desktop/final_code/data\"\n",
    "# colab_path = \"C:/Users/USER/OneDrive - ort braude college of engineering/Desktop/data\"\n",
    "data_base_name = \"data_base_Bible\""
   ]
  },
  {
   "cell_type": "markdown",
   "metadata": {
    "id": "TyQ7yXAOORq5"
   },
   "source": [
    "<p>Reads all the files from the directory and subdirectories, extracts the file's contents and their corresponding labels, and appends them to <span style='color:blue;'>data_txts</span> and <span style='color:blue;'>data_labels</span>, respectively.</p>"
   ]
  },
  {
   "cell_type": "code",
   "execution_count": 99,
   "metadata": {
    "colab": {
     "base_uri": "https://localhost:8080/"
    },
    "id": "yFuS1xPzORrF",
    "outputId": "ae9bfea2-9f10-48f6-a332-0ffe3844994d"
   },
   "outputs": [
    {
     "name": "stdout",
     "output_type": "stream",
     "text": [
      "+ C:/Users/yadik/Desktop/final_code/data\\data_base_Bible\\Bible\\אנשי הכנסת הגדולה = Label: אנשי הכנסת הגדולה\n",
      "+ C:/Users/yadik/Desktop/final_code/data\\data_base_Bible\\Bible\\אנשי הכנסת הגדולה = Label: אנשי הכנסת הגדולה\n",
      "+ C:/Users/yadik/Desktop/final_code/data\\data_base_Bible\\Bible\\אנשי הכנסת הגדולה = Label: אנשי הכנסת הגדולה\n",
      "+ C:/Users/yadik/Desktop/final_code/data\\data_base_Bible\\Bible\\דוד = Label: דוד\n",
      "+ C:/Users/yadik/Desktop/final_code/data\\data_base_Bible\\Bible\\הושע = Label: הושע\n",
      "+ C:/Users/yadik/Desktop/final_code/data\\data_base_Bible\\Bible\\זכריה = Label: זכריה\n",
      "+ C:/Users/yadik/Desktop/final_code/data\\data_base_Bible\\Bible\\חבקוק = Label: חבקוק\n",
      "+ C:/Users/yadik/Desktop/final_code/data\\data_base_Bible\\Bible\\חגיי = Label: חגיי\n",
      "+ C:/Users/yadik/Desktop/final_code/data\\data_base_Bible\\Bible\\חזקיה = Label: חזקיה\n",
      "+ C:/Users/yadik/Desktop/final_code/data\\data_base_Bible\\Bible\\חזקיה = Label: חזקיה\n",
      "+ C:/Users/yadik/Desktop/final_code/data\\data_base_Bible\\Bible\\חזקיה = Label: חזקיה\n",
      "+ C:/Users/yadik/Desktop/final_code/data\\data_base_Bible\\Bible\\חזקיה = Label: חזקיה\n",
      "+ C:/Users/yadik/Desktop/final_code/data\\data_base_Bible\\Bible\\יהושוע = Label: יהושוע\n",
      "+ C:/Users/yadik/Desktop/final_code/data\\data_base_Bible\\Bible\\יואל = Label: יואל\n",
      "+ C:/Users/yadik/Desktop/final_code/data\\data_base_Bible\\Bible\\יונה = Label: יונה\n",
      "+ C:/Users/yadik/Desktop/final_code/data\\data_base_Bible\\Bible\\ירמיה = Label: ירמיה\n",
      "+ C:/Users/yadik/Desktop/final_code/data\\data_base_Bible\\Bible\\ירמיה = Label: ירמיה\n",
      "+ C:/Users/yadik/Desktop/final_code/data\\data_base_Bible\\Bible\\ירמיה = Label: ירמיה\n",
      "+ C:/Users/yadik/Desktop/final_code/data\\data_base_Bible\\Bible\\מיכה = Label: מיכה\n",
      "+ C:/Users/yadik/Desktop/final_code/data\\data_base_Bible\\Bible\\מלאכי = Label: מלאכי\n",
      "+ C:/Users/yadik/Desktop/final_code/data\\data_base_Bible\\Bible\\משה = Label: משה\n",
      "+ C:/Users/yadik/Desktop/final_code/data\\data_base_Bible\\Bible\\משה = Label: משה\n",
      "+ C:/Users/yadik/Desktop/final_code/data\\data_base_Bible\\Bible\\משה = Label: משה\n",
      "+ C:/Users/yadik/Desktop/final_code/data\\data_base_Bible\\Bible\\משה = Label: משה\n",
      "+ C:/Users/yadik/Desktop/final_code/data\\data_base_Bible\\Bible\\משה = Label: משה\n",
      "+ C:/Users/yadik/Desktop/final_code/data\\data_base_Bible\\Bible\\משה = Label: משה\n",
      "+ C:/Users/yadik/Desktop/final_code/data\\data_base_Bible\\Bible\\נחום = Label: נחום\n",
      "+ C:/Users/yadik/Desktop/final_code/data\\data_base_Bible\\Bible\\עובדיה = Label: עובדיה\n",
      "+ C:/Users/yadik/Desktop/final_code/data\\data_base_Bible\\Bible\\עזרא = Label: עזרא\n",
      "+ C:/Users/yadik/Desktop/final_code/data\\data_base_Bible\\Bible\\עזרא = Label: עזרא\n",
      "+ C:/Users/yadik/Desktop/final_code/data\\data_base_Bible\\Bible\\עמוס = Label: עמוס\n",
      "+ C:/Users/yadik/Desktop/final_code/data\\data_base_Bible\\Bible\\שמואל = Label: שמואל\n",
      "+ C:/Users/yadik/Desktop/final_code/data\\data_base_Bible\\Bible\\שמואל = Label: שמואל\n",
      "+ C:/Users/yadik/Desktop/final_code/data\\data_base_Bible\\Bible\\שמואל = Label: שמואל\n",
      "+ C:/Users/yadik/Desktop/final_code/data\\data_base_Bible\\imposters\\דוד פרישמן = Label: דוד פרישמן\n",
      "+ C:/Users/yadik/Desktop/final_code/data\\data_base_Bible\\imposters\\דוד פרישמן = Label: דוד פרישמן\n",
      "+ C:/Users/yadik/Desktop/final_code/data\\data_base_Bible\\imposters\\הורביץ, חיים מאיר = Label: הורביץ, חיים מאיר\n",
      "+ C:/Users/yadik/Desktop/final_code/data\\data_base_Bible\\imposters\\ויקיפדיה = Label: ויקיפדיה\n",
      "+ C:/Users/yadik/Desktop/final_code/data\\data_base_Bible\\imposters\\זאב יעבץ = Label: זאב יעבץ\n",
      "+ C:/Users/yadik/Desktop/final_code/data\\data_base_Bible\\imposters\\זאב יעבץ = Label: זאב יעבץ\n",
      "+ C:/Users/yadik/Desktop/final_code/data\\data_base_Bible\\imposters\\זאב יעבץ = Label: זאב יעבץ\n",
      "+ C:/Users/yadik/Desktop/final_code/data\\data_base_Bible\\imposters\\זאב יעבץ = Label: זאב יעבץ\n",
      "+ C:/Users/yadik/Desktop/final_code/data\\data_base_Bible\\imposters\\זאב יעבץ = Label: זאב יעבץ\n",
      "+ C:/Users/yadik/Desktop/final_code/data\\data_base_Bible\\imposters\\זאב יעבץ = Label: זאב יעבץ\n",
      "+ C:/Users/yadik/Desktop/final_code/data\\data_base_Bible\\imposters\\זאב יעבץ = Label: זאב יעבץ\n",
      "+ C:/Users/yadik/Desktop/final_code/data\\data_base_Bible\\imposters\\חיים נחמן ביאליק = Label: חיים נחמן ביאליק\n",
      "+ C:/Users/yadik/Desktop/final_code/data\\data_base_Bible\\imposters\\חיים נחמן ביאליק = Label: חיים נחמן ביאליק\n",
      "+ C:/Users/yadik/Desktop/final_code/data\\data_base_Bible\\imposters\\חיים נחמן ביאליק = Label: חיים נחמן ביאליק\n",
      "+ C:/Users/yadik/Desktop/final_code/data\\data_base_Bible\\imposters\\יהודה שטיינברג = Label: יהודה שטיינברג\n",
      "+ C:/Users/yadik/Desktop/final_code/data\\data_base_Bible\\imposters\\יהודה שטיינברג = Label: יהודה שטיינברג\n",
      "+ C:/Users/yadik/Desktop/final_code/data\\data_base_Bible\\imposters\\יהודה שטיינברג = Label: יהודה שטיינברג\n",
      "+ C:/Users/yadik/Desktop/final_code/data\\data_base_Bible\\imposters\\יהודה שטיינברג = Label: יהודה שטיינברג\n",
      "+ C:/Users/yadik/Desktop/final_code/data\\data_base_Bible\\imposters\\יהודה שטיינברג = Label: יהודה שטיינברג\n",
      "+ C:/Users/yadik/Desktop/final_code/data\\data_base_Bible\\imposters\\יהודה שטיינברג = Label: יהודה שטיינברג\n",
      "+ C:/Users/yadik/Desktop/final_code/data\\data_base_Bible\\imposters\\יהודה שטיינברג = Label: יהודה שטיינברג\n",
      "+ C:/Users/yadik/Desktop/final_code/data\\data_base_Bible\\imposters\\יצחק ארטר = Label: יצחק ארטר\n",
      "+ C:/Users/yadik/Desktop/final_code/data\\data_base_Bible\\imposters\\יצחק יציב = Label: יצחק יציב\n",
      "+ C:/Users/yadik/Desktop/final_code/data\\data_base_Bible\\imposters\\יצחק יציב = Label: יצחק יציב\n",
      "+ C:/Users/yadik/Desktop/final_code/data\\data_base_Bible\\imposters\\יצחק יציב = Label: יצחק יציב\n",
      "+ C:/Users/yadik/Desktop/final_code/data\\data_base_Bible\\imposters\\יצחק יציב = Label: יצחק יציב\n",
      "+ C:/Users/yadik/Desktop/final_code/data\\data_base_Bible\\imposters\\יצחק יציב = Label: יצחק יציב\n",
      "+ C:/Users/yadik/Desktop/final_code/data\\data_base_Bible\\imposters\\יצחק יציב = Label: יצחק יציב\n",
      "+ C:/Users/yadik/Desktop/final_code/data\\data_base_Bible\\imposters\\ישראל בן מאיר בלקינד = Label: ישראל בן מאיר בלקינד\n",
      "+ C:/Users/yadik/Desktop/final_code/data\\data_base_Bible\\imposters\\ישראל בנימין לבנר = Label: ישראל בנימין לבנר\n",
      "+ C:/Users/yadik/Desktop/final_code/data\\data_base_Bible\\imposters\\ישראל בנימין לבנר = Label: ישראל בנימין לבנר\n",
      "+ C:/Users/yadik/Desktop/final_code/data\\data_base_Bible\\imposters\\ישראל בנימין לבנר = Label: ישראל בנימין לבנר\n",
      "+ C:/Users/yadik/Desktop/final_code/data\\data_base_Bible\\imposters\\ישראל בנימין לבנר = Label: ישראל בנימין לבנר\n",
      "+ C:/Users/yadik/Desktop/final_code/data\\data_base_Bible\\imposters\\ישראל בנימין לבנר = Label: ישראל בנימין לבנר\n",
      "+ C:/Users/yadik/Desktop/final_code/data\\data_base_Bible\\imposters\\ישראל בנימין לבנר = Label: ישראל בנימין לבנר\n",
      "+ C:/Users/yadik/Desktop/final_code/data\\data_base_Bible\\imposters\\ישראל בנימין לבנר = Label: ישראל בנימין לבנר\n",
      "+ C:/Users/yadik/Desktop/final_code/data\\data_base_Bible\\imposters\\ישראל זמורה = Label: ישראל זמורה\n",
      "+ C:/Users/yadik/Desktop/final_code/data\\data_base_Bible\\imposters\\ישראל זמורה = Label: ישראל זמורה\n",
      "+ C:/Users/yadik/Desktop/final_code/data\\data_base_Bible\\imposters\\ישראל זמורה = Label: ישראל זמורה\n",
      "+ C:/Users/yadik/Desktop/final_code/data\\data_base_Bible\\imposters\\ישראל זמורה = Label: ישראל זמורה\n",
      "+ C:/Users/yadik/Desktop/final_code/data\\data_base_Bible\\imposters\\ישראל זמורה = Label: ישראל זמורה\n",
      "+ C:/Users/yadik/Desktop/final_code/data\\data_base_Bible\\imposters\\ישראל זמורה = Label: ישראל זמורה\n",
      "+ C:/Users/yadik/Desktop/final_code/data\\data_base_Bible\\imposters\\מנחם שטיין = Label: מנחם שטיין\n",
      "+ C:/Users/yadik/Desktop/final_code/data\\data_base_Bible\\imposters\\מנחם שטיין = Label: מנחם שטיין\n",
      "+ C:/Users/yadik/Desktop/final_code/data\\data_base_Bible\\imposters\\מנחם שטיין = Label: מנחם שטיין\n",
      "+ C:/Users/yadik/Desktop/final_code/data\\data_base_Bible\\imposters\\מנחם שטיין = Label: מנחם שטיין\n",
      "+ C:/Users/yadik/Desktop/final_code/data\\data_base_Bible\\imposters\\מנחם שטיין = Label: מנחם שטיין\n",
      "+ C:/Users/yadik/Desktop/final_code/data\\data_base_Bible\\imposters\\מתתיה דלקרוט = Label: מתתיה דלקרוט\n",
      "+ C:/Users/yadik/Desktop/final_code/data\\data_base_Bible\\imposters\\נחום סוקולוב = Label: נחום סוקולוב\n",
      "+ C:/Users/yadik/Desktop/final_code/data\\data_base_Bible\\imposters\\נחום סוקולוב = Label: נחום סוקולוב\n",
      "+ C:/Users/yadik/Desktop/final_code/data\\data_base_Bible\\imposters\\נחום סוקולוב = Label: נחום סוקולוב\n",
      "+ C:/Users/yadik/Desktop/final_code/data\\data_base_Bible\\imposters\\נחום סוקולוב = Label: נחום סוקולוב\n",
      "+ C:/Users/yadik/Desktop/final_code/data\\data_base_Bible\\imposters\\קנוט האמסון = Label: קנוט האמסון\n",
      "+ C:/Users/yadik/Desktop/final_code/data\\data_base_Bible\\imposters\\קרל אולד = Label: קרל אולד\n",
      "+ C:/Users/yadik/Desktop/final_code/data\\data_base_Bible\\imposters\\ר' בנימין = Label: ר' בנימין\n",
      "+ C:/Users/yadik/Desktop/final_code/data\\data_base_Bible\\imposters\\ר_ בנימין = Label: ר_ בנימין\n",
      "+ C:/Users/yadik/Desktop/final_code/data\\data_base_Bible\\imposters\\שלום רוזנפלד = Label: שלום רוזנפלד\n",
      "+ C:/Users/yadik/Desktop/final_code/data\\data_base_Bible\\imposters\\שמואל ואקנין = Label: שמואל ואקנין\n",
      "+ C:/Users/yadik/Desktop/final_code/data\\data_base_Bible\\imposters\\שמעון הלקין = Label: שמעון הלקין\n",
      "+ C:/Users/yadik/Desktop/final_code/data\\data_base_Bible\\imposters\\שמעון הלקין = Label: שמעון הלקין\n",
      "+ C:/Users/yadik/Desktop/final_code/data\\data_base_Bible\\imposters\\שמעון הלקין = Label: שמעון הלקין\n",
      "+ C:/Users/yadik/Desktop/final_code/data\\data_base_Bible\\imposters\\שמעון הלקין = Label: שמעון הלקין\n"
     ]
    }
   ],
   "source": [
    "data_txts = []\n",
    "data_labels = []\n",
    "\n",
    "for root, ds, fs in os.walk(os.path.join(colab_path, data_base_name)):\n",
    "    for file in fs:\n",
    "        if root.split(os.path.sep)[-1] != data_base_name:\n",
    "            label = root.split(os.path.sep)[-1]\n",
    "            print(\"+\", root, \"= Label:\", label)\n",
    "            with open(os.path.join(root, file), 'r', encoding = \"utf-8\") as txtfile:\n",
    "                txt = txtfile.read()\n",
    "                data_txts.append(txt)\n",
    "                if root.split(os.path.sep)[-2].lower() == \"bible\":\n",
    "                    data_labels.append(f\"bible_{label}\")  \n",
    "                else:\n",
    "                    data_labels.append(label)"
   ]
  },
  {
   "cell_type": "code",
   "execution_count": 100,
   "metadata": {
    "colab": {
     "base_uri": "https://localhost:8080/"
    },
    "id": "9Yv8GGl1ORrG",
    "outputId": "6b5c1435-7413-41d3-b8c9-f21940743496"
   },
   "outputs": [
    {
     "data": {
      "text/plain": [
       "array(['bible_אנשי הכנסת הגדולה', 'bible_דוד', 'bible_הושע',\n",
       "       'bible_זכריה', 'bible_חבקוק', 'bible_חגיי', 'bible_חזקיה',\n",
       "       'bible_יהושוע', 'bible_יואל', 'bible_יונה', 'bible_ירמיה',\n",
       "       'bible_מיכה', 'bible_מלאכי', 'bible_משה', 'bible_נחום',\n",
       "       'bible_עובדיה', 'bible_עזרא', 'bible_עמוס', 'bible_שמואל',\n",
       "       'דוד פרישמן', 'הורביץ, חיים מאיר', 'ויקיפדיה', 'זאב יעבץ',\n",
       "       'חיים נחמן ביאליק', 'יהודה שטיינברג', 'יצחק ארטר', 'יצחק יציב',\n",
       "       'ישראל בן מאיר בלקינד', 'ישראל בנימין לבנר', 'ישראל זמורה',\n",
       "       'מנחם שטיין', 'מתתיה דלקרוט', 'נחום סוקולוב', 'קנוט האמסון',\n",
       "       'קרל אולד', \"ר' בנימין\", 'ר_ בנימין', 'שלום רוזנפלד',\n",
       "       'שמואל ואקנין', 'שמעון הלקין'], dtype='<U23')"
      ]
     },
     "execution_count": 100,
     "metadata": {},
     "output_type": "execute_result"
    }
   ],
   "source": [
    "# Show labels\n",
    "np.unique(data_labels)"
   ]
  },
  {
   "cell_type": "code",
   "execution_count": 101,
   "metadata": {
    "colab": {
     "base_uri": "https://localhost:8080/",
     "height": 1000
    },
    "id": "x3ri8u8jORrP",
    "outputId": "40ba00ac-73aa-41a2-bfb8-1a58b22a1234"
   },
   "outputs": [
    {
     "data": {
      "text/html": [
       "<div>\n",
       "<style scoped>\n",
       "    .dataframe tbody tr th:only-of-type {\n",
       "        vertical-align: middle;\n",
       "    }\n",
       "\n",
       "    .dataframe tbody tr th {\n",
       "        vertical-align: top;\n",
       "    }\n",
       "\n",
       "    .dataframe thead th {\n",
       "        text-align: right;\n",
       "    }\n",
       "</style>\n",
       "<table border=\"1\" class=\"dataframe\">\n",
       "  <thead>\n",
       "    <tr style=\"text-align: right;\">\n",
       "      <th></th>\n",
       "      <th>txt</th>\n",
       "      <th>label</th>\n",
       "    </tr>\n",
       "  </thead>\n",
       "  <tbody>\n",
       "    <tr>\n",
       "      <th>0</th>\n",
       "      <td>﻿אסתר\\nא,א וַיְהִי, בִּימֵי אֲחַשְׁוֵרוֹשׁ:  ה...</td>\n",
       "      <td>bible_אנשי הכנסת הגדולה</td>\n",
       "    </tr>\n",
       "    <tr>\n",
       "      <th>1</th>\n",
       "      <td>﻿דנייאל\\nא,א בִּשְׁנַת שָׁלוֹשׁ, לְמַלְכוּת יְ...</td>\n",
       "      <td>bible_אנשי הכנסת הגדולה</td>\n",
       "    </tr>\n",
       "    <tr>\n",
       "      <th>2</th>\n",
       "      <td>﻿יחזקאל\\nא,א וַיְהִי בִּשְׁלֹשִׁים שָׁנָה, בָּ...</td>\n",
       "      <td>bible_אנשי הכנסת הגדולה</td>\n",
       "    </tr>\n",
       "    <tr>\n",
       "      <th>3</th>\n",
       "      <td>﻿תהילים\\n\\nיח,א  לַמְנַצֵּחַ, לְעֶבֶד יְהוָה--...</td>\n",
       "      <td>bible_דוד</td>\n",
       "    </tr>\n",
       "    <tr>\n",
       "      <th>4</th>\n",
       "      <td>﻿הושע\\nא,א דְּבַר-יְהוָה אֲשֶׁר הָיָה, אֶל-הוֹ...</td>\n",
       "      <td>bible_הושע</td>\n",
       "    </tr>\n",
       "    <tr>\n",
       "      <th>...</th>\n",
       "      <td>...</td>\n",
       "      <td>...</td>\n",
       "    </tr>\n",
       "    <tr>\n",
       "      <th>91</th>\n",
       "      <td>﻿\\n\\n\\nההשחתה של אבימבולה סאלאקו\\n\\n\\nכשנכנסתי...</td>\n",
       "      <td>שמואל ואקנין</td>\n",
       "    </tr>\n",
       "    <tr>\n",
       "      <th>92</th>\n",
       "      <td>[1]\\nבספרות כתיקונה ובחיי־עם שלמים ומתוקנים וד...</td>\n",
       "      <td>שמעון הלקין</td>\n",
       "    </tr>\n",
       "    <tr>\n",
       "      <th>93</th>\n",
       "      <td>[א]\\nכשנכנס לוסקין אל חדר עבודתו, מצא את מקורמ...</td>\n",
       "      <td>שמעון הלקין</td>\n",
       "    </tr>\n",
       "    <tr>\n",
       "      <th>94</th>\n",
       "      <td>[א]\\nבשלוש לפנות־בוקר, כשעה לאחר שכיבה, ניעור ...</td>\n",
       "      <td>שמעון הלקין</td>\n",
       "    </tr>\n",
       "    <tr>\n",
       "      <th>95</th>\n",
       "      <td>[א]\\nבשלוש לפנות־בוקר, כשעה לאחר שכיבה, ניעור ...</td>\n",
       "      <td>שמעון הלקין</td>\n",
       "    </tr>\n",
       "  </tbody>\n",
       "</table>\n",
       "<p>96 rows × 2 columns</p>\n",
       "</div>"
      ],
      "text/plain": [
       "                                                  txt                    label\n",
       "0   ﻿אסתר\\nא,א וַיְהִי, בִּימֵי אֲחַשְׁוֵרוֹשׁ:  ה...  bible_אנשי הכנסת הגדולה\n",
       "1   ﻿דנייאל\\nא,א בִּשְׁנַת שָׁלוֹשׁ, לְמַלְכוּת יְ...  bible_אנשי הכנסת הגדולה\n",
       "2   ﻿יחזקאל\\nא,א וַיְהִי בִּשְׁלֹשִׁים שָׁנָה, בָּ...  bible_אנשי הכנסת הגדולה\n",
       "3   ﻿תהילים\\n\\nיח,א  לַמְנַצֵּחַ, לְעֶבֶד יְהוָה--...                bible_דוד\n",
       "4   ﻿הושע\\nא,א דְּבַר-יְהוָה אֲשֶׁר הָיָה, אֶל-הוֹ...               bible_הושע\n",
       "..                                                ...                      ...\n",
       "91  ﻿\\n\\n\\nההשחתה של אבימבולה סאלאקו\\n\\n\\nכשנכנסתי...             שמואל ואקנין\n",
       "92  [1]\\nבספרות כתיקונה ובחיי־עם שלמים ומתוקנים וד...              שמעון הלקין\n",
       "93  [א]\\nכשנכנס לוסקין אל חדר עבודתו, מצא את מקורמ...              שמעון הלקין\n",
       "94  [א]\\nבשלוש לפנות־בוקר, כשעה לאחר שכיבה, ניעור ...              שמעון הלקין\n",
       "95  [א]\\nבשלוש לפנות־בוקר, כשעה לאחר שכיבה, ניעור ...              שמעון הלקין\n",
       "\n",
       "[96 rows x 2 columns]"
      ]
     },
     "execution_count": 101,
     "metadata": {},
     "output_type": "execute_result"
    }
   ],
   "source": [
    "df0 = pd.DataFrame({\n",
    "                     \"txt\": data_txts,\n",
    "                     \"label\": data_labels\n",
    "                   })\n",
    "df0"
   ]
  },
  {
   "cell_type": "markdown",
   "metadata": {
    "id": "Obq_3QxPORrT"
   },
   "source": [
    "# Process the data"
   ]
  },
  {
   "cell_type": "markdown",
   "metadata": {},
   "source": [
    "<p>On the first time of running uncomment, this cell</p>"
   ]
  },
  {
   "cell_type": "code",
   "execution_count": 102,
   "metadata": {
    "colab": {
     "base_uri": "https://localhost:8080/"
    },
    "id": "pdob93kARoVX",
    "outputId": "a11d0349-2790-47b3-d935-820c51e10702"
   },
   "outputs": [
    {
     "name": "stdout",
     "output_type": "stream",
     "text": [
      "Requirement already satisfied: transformers in c:\\users\\yadik\\appdata\\roaming\\python\\python39\\site-packages (4.20.1)\n",
      "Requirement already satisfied: filelock in c:\\users\\yadik\\appdata\\roaming\\python\\python39\\site-packages (from transformers) (3.7.1)\n",
      "Requirement already satisfied: tqdm>=4.27 in c:\\users\\yadik\\anaconda3\\lib\\site-packages (from transformers) (4.62.3)\n",
      "Requirement already satisfied: tokenizers!=0.11.3,<0.13,>=0.11.1 in c:\\users\\yadik\\anaconda3\\lib\\site-packages (from transformers) (0.12.1)\n",
      "Requirement already satisfied: regex!=2019.12.17 in c:\\users\\yadik\\anaconda3\\lib\\site-packages (from transformers) (2021.8.3)\n",
      "Requirement already satisfied: packaging>=20.0 in c:\\users\\yadik\\anaconda3\\lib\\site-packages (from transformers) (21.0)\n",
      "Requirement already satisfied: numpy>=1.17 in c:\\users\\yadik\\appdata\\roaming\\python\\python39\\site-packages (from transformers) (1.24.1)\n",
      "Requirement already satisfied: huggingface-hub<1.0,>=0.1.0 in c:\\users\\yadik\\appdata\\roaming\\python\\python39\\site-packages (from transformers) (0.10.1)\n",
      "Requirement already satisfied: pyyaml>=5.1 in c:\\users\\yadik\\anaconda3\\lib\\site-packages (from transformers) (6.0)\n",
      "Requirement already satisfied: requests in c:\\users\\yadik\\appdata\\roaming\\python\\python39\\site-packages (from transformers) (2.28.1)\n",
      "Requirement already satisfied: typing-extensions>=3.7.4.3 in c:\\users\\yadik\\anaconda3\\lib\\site-packages (from huggingface-hub<1.0,>=0.1.0->transformers) (3.10.0.2)\n",
      "Requirement already satisfied: pyparsing>=2.0.2 in c:\\users\\yadik\\anaconda3\\lib\\site-packages (from packaging>=20.0->transformers) (3.0.4)\n",
      "Requirement already satisfied: colorama in c:\\users\\yadik\\anaconda3\\lib\\site-packages (from tqdm>=4.27->transformers) (0.4.4)\n",
      "Requirement already satisfied: charset-normalizer<3,>=2 in c:\\users\\yadik\\anaconda3\\lib\\site-packages (from requests->transformers) (2.0.4)\n",
      "Requirement already satisfied: urllib3<1.27,>=1.21.1 in c:\\users\\yadik\\appdata\\roaming\\python\\python39\\site-packages (from requests->transformers) (1.26.13)\n",
      "Requirement already satisfied: idna<4,>=2.5 in c:\\users\\yadik\\anaconda3\\lib\\site-packages (from requests->transformers) (3.2)\n",
      "Requirement already satisfied: certifi>=2017.4.17 in c:\\users\\yadik\\anaconda3\\lib\\site-packages (from requests->transformers) (2021.10.8)\n",
      "Note: you may need to restart the kernel to use updated packages.\n"
     ]
    }
   ],
   "source": [
    "pip install transformers"
   ]
  },
  {
   "cell_type": "code",
   "execution_count": 103,
   "metadata": {
    "colab": {
     "base_uri": "https://localhost:8080/"
    },
    "id": "TRrnRe6oORrb",
    "outputId": "c447114a-6ebf-4f9b-9272-618fe1c5293d",
    "scrolled": true
   },
   "outputs": [
    {
     "name": "stderr",
     "output_type": "stream",
     "text": [
      "[nltk_data] Downloading package stopwords to\n",
      "[nltk_data]     C:\\Users\\yadik\\AppData\\Roaming\\nltk_data...\n",
      "[nltk_data]   Package stopwords is already up-to-date!\n",
      "[nltk_data] Downloading package punkt to\n",
      "[nltk_data]     C:\\Users\\yadik\\AppData\\Roaming\\nltk_data...\n",
      "[nltk_data]   Package punkt is already up-to-date!\n"
     ]
    }
   ],
   "source": [
    "import nltk\n",
    "from nltk.tokenize import word_tokenize\n",
    "from nltk.corpus import stopwords\n",
    "nltk.download(\"stopwords\")\n",
    "nltk.download('punkt')\n",
    "import string\n",
    "import numpy as np\n",
    "import gc\n",
    "from transformers import AutoTokenizer\n",
    "from sklearn.preprocessing import LabelEncoder\n",
    "\n",
    "def preprocessing_stage(text):\n",
    "    try:\n",
    "        # Split into words\n",
    "        tokens = word_tokenize(text)\n",
    "        # Convert to lowercase\n",
    "        tokens = [w.lower() for w in tokens]\n",
    "        # Remove punctuation from each word\n",
    "        hebrew_punctuation = '־ְֱֲֳִֵֶַָֹֻּׂ׀'\n",
    "        all_punctuation = string.punctuation + hebrew_punctuation\n",
    "        table = str.maketrans('', '', all_punctuation) \n",
    "        stripped = [w.translate(table) for w in tokens]\n",
    "        # Remove remaining tokens that are not alphabetic\n",
    "        words = [word for word in stripped if word.isalpha()]\n",
    "        # Filter out stop words\n",
    "        stop_words = set(stopwords.words('hebrew'))\n",
    "        words = [w for w in words if not w in stop_words]\n",
    "        # Elemintate the Nan Values\n",
    "        words = [x for x in words if str(x) != 'nan']\n",
    "        words = [x for x in words if str(x) != '']\n",
    "        words = \" \".join(words)\n",
    "        return words\n",
    "    except Exception as e:\n",
    "        print(\"ERROR in preprocessing_stage: \" + e.args[0])\n",
    "        return None"
   ]
  },
  {
   "cell_type": "markdown",
   "metadata": {
    "id": "pnXU_GfJORro"
   },
   "source": [
    "### hebBert_algorithm"
   ]
  },
  {
   "cell_type": "code",
   "execution_count": 104,
   "metadata": {
    "id": "4MNmz8KaORrp"
   },
   "outputs": [],
   "source": [
    "from transformers import AutoTokenizer, AutoModel, pipeline, BertForSequenceClassification\n",
    "import torch\n",
    "\n",
    "tokenizer = AutoTokenizer.from_pretrained(\"avichr/heBERT\")\n",
    "def hebBert_algorithm(txt, tokenizer):\n",
    "    try:\n",
    "        wv = tokenizer(txt, return_tensors = 'np', padding = True)\n",
    "        return wv[\"input_ids\"]\n",
    "    except Exception as e:\n",
    "        print(\"ERROR in HebBert_algorithm: \" + e.args[0])"
   ]
  },
  {
   "cell_type": "code",
   "execution_count": 105,
   "metadata": {
    "id": "0Wmv4rUFORrp"
   },
   "outputs": [],
   "source": [
    "preprocessed_sentences = []\n",
    "labels = []\n",
    "wv_sentences_tmp = []\n",
    "for txt,label in zip(df0.txt,df0.label):\n",
    "    sentences = txt.split(\"\\n\")\n",
    "    sentences = [x for x in sentences if str(x) != '']\n",
    "    for sentence in sentences:\n",
    "        processed_text = preprocessing_stage(sentence)\n",
    "        if processed_text != '':\n",
    "            # print(\"+\", phrase, \"--\", processed_text)\n",
    "            preprocessed_sentences.append(processed_text)\n",
    "            wv = hebBert_algorithm(preprocessed_sentences[-1], tokenizer)\n",
    "            wv_sentences_tmp.append(wv)\n",
    "            labels.append(label)"
   ]
  },
  {
   "cell_type": "markdown",
   "metadata": {
    "id": "aph2kLkQORr5"
   },
   "source": [
    "#### Add padding to WV so that they have the same size"
   ]
  },
  {
   "cell_type": "code",
   "execution_count": 106,
   "metadata": {
    "colab": {
     "base_uri": "https://localhost:8080/"
    },
    "id": "0ngJXaCbORr6",
    "outputId": "de9c9c6f-0bae-4fc8-85ed-eb6cdf767097"
   },
   "outputs": [
    {
     "name": "stdout",
     "output_type": "stream",
     "text": [
      "The max size of Wv is 300\n"
     ]
    }
   ],
   "source": [
    "emb_dim = 300\n",
    "print(f\"The max size of Wv is {emb_dim}\")\n",
    "wv_sentences = []\n",
    "for wv in wv_sentences_tmp:\n",
    "    wv = np.pad(wv.reshape(-1), (0, emb_dim), 'constant')\n",
    "    wv_sentences.append(wv[:emb_dim])"
   ]
  },
  {
   "cell_type": "code",
   "execution_count": 107,
   "metadata": {
    "colab": {
     "base_uri": "https://localhost:8080/"
    },
    "id": "MOjjdYj-ORr7",
    "outputId": "1a791805-b77f-4e84-871b-1c3450170be6"
   },
   "outputs": [
    {
     "name": "stdout",
     "output_type": "stream",
     "text": [
      "25846\n",
      "25846\n",
      "25846\n"
     ]
    }
   ],
   "source": [
    "print(len(labels))\n",
    "print(len(preprocessed_sentences))\n",
    "print(len(wv_sentences))"
   ]
  },
  {
   "cell_type": "code",
   "execution_count": 108,
   "metadata": {
    "id": "U_OiOwO5ORr8"
   },
   "outputs": [
    {
     "data": {
      "text/html": [
       "<div>\n",
       "<style scoped>\n",
       "    .dataframe tbody tr th:only-of-type {\n",
       "        vertical-align: middle;\n",
       "    }\n",
       "\n",
       "    .dataframe tbody tr th {\n",
       "        vertical-align: top;\n",
       "    }\n",
       "\n",
       "    .dataframe thead th {\n",
       "        text-align: right;\n",
       "    }\n",
       "</style>\n",
       "<table border=\"1\" class=\"dataframe\">\n",
       "  <thead>\n",
       "    <tr style=\"text-align: right;\">\n",
       "      <th></th>\n",
       "      <th>txt</th>\n",
       "      <th>wv</th>\n",
       "      <th>label</th>\n",
       "    </tr>\n",
       "  </thead>\n",
       "  <tbody>\n",
       "    <tr>\n",
       "      <th>0</th>\n",
       "      <td>א א ויהי בימי המלך מהדו ועשרים ומאה מדינה א ב ...</td>\n",
       "      <td>[2, 197, 197, 9847, 5403, 4131, 5081, 1008, 29...</td>\n",
       "      <td>bible_אנשי הכנסת הגדולה</td>\n",
       "    </tr>\n",
       "    <tr>\n",
       "      <th>1</th>\n",
       "      <td>ס ט ז ר</td>\n",
       "      <td>[2, 214, 205, 203, 221, 3, 0, 0, 0, 0, 0, 0, 0...</td>\n",
       "      <td>bible_אנשי הכנסת הגדולה</td>\n",
       "    </tr>\n",
       "    <tr>\n",
       "      <th>2</th>\n",
       "      <td>ס ר</td>\n",
       "      <td>[2, 214, 221, 3, 0, 0, 0, 0, 0, 0, 0, 0, 0, 0,...</td>\n",
       "      <td>bible_אנשי הכנסת הגדולה</td>\n",
       "    </tr>\n",
       "    <tr>\n",
       "      <th>3</th>\n",
       "      <td>דלפון ס ר</td>\n",
       "      <td>[2, 5879, 2257, 214, 221, 3, 0, 0, 0, 0, 0, 0,...</td>\n",
       "      <td>bible_אנשי הכנסת הגדולה</td>\n",
       "    </tr>\n",
       "    <tr>\n",
       "      <th>4</th>\n",
       "      <td>אספתא ס ט ח ר</td>\n",
       "      <td>[2, 2163, 1713, 1017, 214, 205, 204, 221, 3, 0...</td>\n",
       "      <td>bible_אנשי הכנסת הגדולה</td>\n",
       "    </tr>\n",
       "    <tr>\n",
       "      <th>...</th>\n",
       "      <td>...</td>\n",
       "      <td>...</td>\n",
       "      <td>...</td>\n",
       "    </tr>\n",
       "    <tr>\n",
       "      <th>25841</th>\n",
       "      <td>עיןהיירקון לפניה כאילו שב לחיות לאורהעששית האד...</td>\n",
       "      <td>[2, 3983, 1013, 9627, 11300, 22874, 3863, 1628...</td>\n",
       "      <td>שמעון הלקין</td>\n",
       "    </tr>\n",
       "    <tr>\n",
       "      <th>25842</th>\n",
       "      <td>זאריב הרגיש בשקר שבווידויו והרי יודעת וצר מאוד...</td>\n",
       "      <td>[2, 16874, 6158, 14223, 13853, 1011, 2503, 776...</td>\n",
       "      <td>שמעון הלקין</td>\n",
       "    </tr>\n",
       "    <tr>\n",
       "      <th>25843</th>\n",
       "      <td>תסלחי יכולתי לעצור הלא קרובה קרובה ואם אמנם הג...</td>\n",
       "      <td>[2, 4179, 1818, 1012, 10634, 7375, 2672, 13226...</td>\n",
       "      <td>שמעון הלקין</td>\n",
       "    </tr>\n",
       "    <tr>\n",
       "      <th>25844</th>\n",
       "      <td>כנראה טעתה בכוונת דבריו במטרת ביקורו המוזר עינ...</td>\n",
       "      <td>[2, 3757, 2466, 1916, 21897, 7571, 5708, 1623,...</td>\n",
       "      <td>שמעון הלקין</td>\n",
       "    </tr>\n",
       "    <tr>\n",
       "      <th>25845</th>\n",
       "      <td>ידעתי תמיד ידעתי שבוא ידעתי שאתה משקר וסוףסוף ...</td>\n",
       "      <td>[2, 7524, 2547, 7524, 2503, 1017, 7524, 3752, ...</td>\n",
       "      <td>שמעון הלקין</td>\n",
       "    </tr>\n",
       "  </tbody>\n",
       "</table>\n",
       "<p>25846 rows × 3 columns</p>\n",
       "</div>"
      ],
      "text/plain": [
       "                                                     txt  \\\n",
       "0      א א ויהי בימי המלך מהדו ועשרים ומאה מדינה א ב ...   \n",
       "1                                                ס ט ז ר   \n",
       "2                                                    ס ר   \n",
       "3                                              דלפון ס ר   \n",
       "4                                          אספתא ס ט ח ר   \n",
       "...                                                  ...   \n",
       "25841  עיןהיירקון לפניה כאילו שב לחיות לאורהעששית האד...   \n",
       "25842  זאריב הרגיש בשקר שבווידויו והרי יודעת וצר מאוד...   \n",
       "25843  תסלחי יכולתי לעצור הלא קרובה קרובה ואם אמנם הג...   \n",
       "25844  כנראה טעתה בכוונת דבריו במטרת ביקורו המוזר עינ...   \n",
       "25845  ידעתי תמיד ידעתי שבוא ידעתי שאתה משקר וסוףסוף ...   \n",
       "\n",
       "                                                      wv  \\\n",
       "0      [2, 197, 197, 9847, 5403, 4131, 5081, 1008, 29...   \n",
       "1      [2, 214, 205, 203, 221, 3, 0, 0, 0, 0, 0, 0, 0...   \n",
       "2      [2, 214, 221, 3, 0, 0, 0, 0, 0, 0, 0, 0, 0, 0,...   \n",
       "3      [2, 5879, 2257, 214, 221, 3, 0, 0, 0, 0, 0, 0,...   \n",
       "4      [2, 2163, 1713, 1017, 214, 205, 204, 221, 3, 0...   \n",
       "...                                                  ...   \n",
       "25841  [2, 3983, 1013, 9627, 11300, 22874, 3863, 1628...   \n",
       "25842  [2, 16874, 6158, 14223, 13853, 1011, 2503, 776...   \n",
       "25843  [2, 4179, 1818, 1012, 10634, 7375, 2672, 13226...   \n",
       "25844  [2, 3757, 2466, 1916, 21897, 7571, 5708, 1623,...   \n",
       "25845  [2, 7524, 2547, 7524, 2503, 1017, 7524, 3752, ...   \n",
       "\n",
       "                         label  \n",
       "0      bible_אנשי הכנסת הגדולה  \n",
       "1      bible_אנשי הכנסת הגדולה  \n",
       "2      bible_אנשי הכנסת הגדולה  \n",
       "3      bible_אנשי הכנסת הגדולה  \n",
       "4      bible_אנשי הכנסת הגדולה  \n",
       "...                        ...  \n",
       "25841              שמעון הלקין  \n",
       "25842              שמעון הלקין  \n",
       "25843              שמעון הלקין  \n",
       "25844              שמעון הלקין  \n",
       "25845              שמעון הלקין  \n",
       "\n",
       "[25846 rows x 3 columns]"
      ]
     },
     "execution_count": 108,
     "metadata": {},
     "output_type": "execute_result"
    }
   ],
   "source": [
    "df_wv = pd.DataFrame({\n",
    "                        \"txt\": preprocessed_sentences,\n",
    "                        \"wv\": wv_sentences,\n",
    "                        \"label\": labels\n",
    "                     })\n",
    "df_wv"
   ]
  },
  {
   "cell_type": "code",
   "execution_count": 109,
   "metadata": {
    "colab": {
     "base_uri": "https://localhost:8080/"
    },
    "id": "562mLEcVORsH",
    "outputId": "c2cb693e-07ad-489d-f23f-4072f06a37e6",
    "scrolled": true
   },
   "outputs": [
    {
     "data": {
      "text/plain": [
       "Index(['bible_אנשי הכנסת הגדולה', 'bible_דוד', 'bible_הושע', 'bible_זכריה',\n",
       "       'bible_חבקוק', 'bible_חגיי', 'bible_חזקיה', 'bible_יהושוע',\n",
       "       'bible_יואל', 'bible_יונה', 'bible_ירמיה', 'bible_מיכה', 'bible_מלאכי',\n",
       "       'bible_משה', 'bible_נחום', 'bible_עובדיה', 'bible_עזרא', 'bible_עמוס',\n",
       "       'bible_שמואל', 'דוד פרישמן', 'הורביץ, חיים מאיר', 'ויקיפדיה',\n",
       "       'זאב יעבץ', 'חיים נחמן ביאליק', 'יהודה שטיינברג', 'יצחק ארטר',\n",
       "       'יצחק יציב', 'ישראל בן מאיר בלקינד', 'ישראל בנימין לבנר', 'ישראל זמורה',\n",
       "       'מנחם שטיין', 'מתתיה דלקרוט', 'נחום סוקולוב', 'קנוט האמסון', 'קרל אולד',\n",
       "       'ר' בנימין', 'ר_ בנימין', 'שלום רוזנפלד', 'שמואל ואקנין',\n",
       "       'שמעון הלקין'],\n",
       "      dtype='object', name='label')"
      ]
     },
     "execution_count": 109,
     "metadata": {},
     "output_type": "execute_result"
    }
   ],
   "source": [
    "df_wv.groupby('label').count().index"
   ]
  },
  {
   "cell_type": "code",
   "execution_count": 110,
   "metadata": {
    "colab": {
     "base_uri": "https://localhost:8080/",
     "height": 456
    },
    "id": "upg5T7MKORsI",
    "outputId": "6b6eb5c4-2f11-4586-afad-d5c4c3939ac7"
   },
   "outputs": [
    {
     "name": "stdout",
     "output_type": "stream",
     "text": [
      "The minimum number of samples is 6\n",
      "The maximum number of samples is 5331\n"
     ]
    },
    {
     "data": {
      "image/png": "[encoded data removed]",
      "text/plain": [
       "<Figure size 1080x720 with 1 Axes>"
      ]
     },
     "metadata": {},
     "output_type": "display_data"
    }
   ],
   "source": [
    "df_wv.groupby(\"label\").count()['txt'].plot(kind = \"bar\", figsize=(15, 10), label = \"nbr sentences\")\n",
    "plt.legend()\n",
    "plt.ylabel(\"The number of samples\")\n",
    "print(f\"The minimum number of samples is {df_wv.groupby('label').count()['txt'].min()}\")\n",
    "print(f\"The maximum number of samples is {df_wv.groupby('label').count()['txt'].max()}\")"
   ]
  },
  {
   "cell_type": "markdown",
   "metadata": {
    "id": "lR_QggcPORsJ"
   },
   "source": [
    "### Initialize  the Threshold\n",
    "\n",
    "**Each label has a text which has several sentences. The number of sentences on some labels is very low, so we ignore them using a threshold to get more representative data.**"
   ]
  },
  {
   "cell_type": "code",
   "execution_count": 111,
   "metadata": {
    "colab": {
     "base_uri": "https://localhost:8080/"
    },
    "id": "24ih3i8BORsJ",
    "outputId": "de2454f3-cf59-424e-fb3b-0e1eaf406aee",
    "scrolled": true
   },
   "outputs": [
    {
     "name": "stdout",
     "output_type": "stream",
     "text": [
      "The number of labels on which we will train the model is:  20\n",
      "\t- label bible_אנשי הכנסת הגדולה ------> has 311 samples\n",
      "\t- label bible_דוד ------> has 2791 samples\n",
      "\t- label bible_הושע ------> has 280 samples\n",
      "\t- label bible_חזקיה ------> has 1068 samples\n",
      "\t- label bible_יהושוע ------> has 290 samples\n",
      "\t- label bible_ירמיה ------> has 476 samples\n",
      "\t- label bible_משה ------> has 2988 samples\n",
      "\t- label bible_עזרא ------> has 307 samples\n",
      "\t- label bible_שמואל ------> has 321 samples\n",
      "\t- label דוד פרישמן ------> has 606 samples\n",
      "\t- label הורביץ, חיים מאיר ------> has 1760 samples\n",
      "\t- label זאב יעבץ ------> has 525 samples\n",
      "\t- label חיים נחמן ביאליק ------> has 538 samples\n",
      "\t- label יהודה שטיינברג ------> has 376 samples\n",
      "\t- label יצחק ארטר ------> has 522 samples\n",
      "\t- label ישראל בן מאיר בלקינד ------> has 382 samples\n",
      "\t- label מתתיה דלקרוט ------> has 1143 samples\n",
      "\t- label קנוט האמסון ------> has 1820 samples\n",
      "\t- label קרל אולד ------> has 3126 samples\n",
      "\t- label שמואל ואקנין ------> has 5331 samples\n",
      "\n",
      "After the data balancing each label will have 280\n"
     ]
    }
   ],
   "source": [
    "threshold = 250\n",
    "list_dataset = [(i, l) for i, l in zip(df_wv.groupby('label').count()['txt'], df_wv.groupby('label').count().index) if i > threshold]\n",
    "print(\"The number of labels on which we will train the model is: \", len(list_dataset))\n",
    "for i, l in list_dataset:\n",
    "    print(f\"\\t- label {l} ------> has {i} samples\")\n",
    "\n",
    "USED_LABELS = [l for _, l in list_dataset]\n",
    "\n",
    "MIN_SAMPLES = min([i for i, _ in list_dataset])\n",
    "\n",
    "print(f\"\\nAfter the data balancing each label will have {MIN_SAMPLES}\")"
   ]
  },
  {
   "cell_type": "markdown",
   "metadata": {
    "id": "0uXfR1hmORsK"
   },
   "source": [
    "## Data Balancing (Balance the Classes)"
   ]
  },
  {
   "cell_type": "code",
   "execution_count": 112,
   "metadata": {
    "colab": {
     "base_uri": "https://localhost:8080/"
    },
    "id": "ltEDSFp_ORsN",
    "outputId": "216cc869-97c6-4be6-c896-c26d1f2d849d"
   },
   "outputs": [
    {
     "name": "stdout",
     "output_type": "stream",
     "text": [
      "The total samples of USED_Labels before Data balancing 24961\n"
     ]
    }
   ],
   "source": [
    "print(f\"The total samples of USED_Labels before Data balancing {sum([i for i, _ in list_dataset])}\")"
   ]
  },
  {
   "cell_type": "code",
   "execution_count": 113,
   "metadata": {
    "colab": {
     "base_uri": "https://localhost:8080/",
     "height": 424
    },
    "id": "67puGjCxORsO",
    "outputId": "f126bd5c-b442-427e-ebdf-46a2fb8af6f8",
    "scrolled": false
   },
   "outputs": [
    {
     "data": {
      "text/html": [
       "<div>\n",
       "<style scoped>\n",
       "    .dataframe tbody tr th:only-of-type {\n",
       "        vertical-align: middle;\n",
       "    }\n",
       "\n",
       "    .dataframe tbody tr th {\n",
       "        vertical-align: top;\n",
       "    }\n",
       "\n",
       "    .dataframe thead th {\n",
       "        text-align: right;\n",
       "    }\n",
       "</style>\n",
       "<table border=\"1\" class=\"dataframe\">\n",
       "  <thead>\n",
       "    <tr style=\"text-align: right;\">\n",
       "      <th></th>\n",
       "      <th>txt</th>\n",
       "      <th>wv</th>\n",
       "      <th>label</th>\n",
       "    </tr>\n",
       "  </thead>\n",
       "  <tbody>\n",
       "    <tr>\n",
       "      <th>0</th>\n",
       "      <td>א א ויהי בימי המלך מהדו ועשרים ומאה מדינה א ב ...</td>\n",
       "      <td>[2, 197, 197, 9847, 5403, 4131, 5081, 1008, 29...</td>\n",
       "      <td>bible_אנשי הכנסת הגדולה</td>\n",
       "    </tr>\n",
       "    <tr>\n",
       "      <th>1</th>\n",
       "      <td>ס ט ז ר</td>\n",
       "      <td>[2, 214, 205, 203, 221, 3, 0, 0, 0, 0, 0, 0, 0...</td>\n",
       "      <td>bible_אנשי הכנסת הגדולה</td>\n",
       "    </tr>\n",
       "    <tr>\n",
       "      <th>2</th>\n",
       "      <td>ס ר</td>\n",
       "      <td>[2, 214, 221, 3, 0, 0, 0, 0, 0, 0, 0, 0, 0, 0,...</td>\n",
       "      <td>bible_אנשי הכנסת הגדולה</td>\n",
       "    </tr>\n",
       "    <tr>\n",
       "      <th>3</th>\n",
       "      <td>דלפון ס ר</td>\n",
       "      <td>[2, 5879, 2257, 214, 221, 3, 0, 0, 0, 0, 0, 0,...</td>\n",
       "      <td>bible_אנשי הכנסת הגדולה</td>\n",
       "    </tr>\n",
       "    <tr>\n",
       "      <th>4</th>\n",
       "      <td>אספתא ס ט ח ר</td>\n",
       "      <td>[2, 2163, 1713, 1017, 214, 205, 204, 221, 3, 0...</td>\n",
       "      <td>bible_אנשי הכנסת הגדולה</td>\n",
       "    </tr>\n",
       "    <tr>\n",
       "      <th>...</th>\n",
       "      <td>...</td>\n",
       "      <td>...</td>\n",
       "      <td>...</td>\n",
       "    </tr>\n",
       "    <tr>\n",
       "      <th>25716</th>\n",
       "      <td>בטלוויזיה משהו</td>\n",
       "      <td>[2, 10511, 2686, 3, 0, 0, 0, 0, 0, 0, 0, 0, 0,...</td>\n",
       "      <td>שמואל ואקנין</td>\n",
       "    </tr>\n",
       "    <tr>\n",
       "      <th>25717</th>\n",
       "      <td>כשהדלת נפתחת הראשון המסלול המזוודות בדרך למטוס</td>\n",
       "      <td>[2, 2356, 3519, 1019, 22650, 2289, 8018, 19750...</td>\n",
       "      <td>שמואל ואקנין</td>\n",
       "    </tr>\n",
       "    <tr>\n",
       "      <th>25718</th>\n",
       "      <td>האירופלוט המתפורר הרחק החיים הבאים בעיר אנשים</td>\n",
       "      <td>[2, 3955, 4506, 1643, 1994, 2009, 1011, 14886,...</td>\n",
       "      <td>שמואל ואקנין</td>\n",
       "    </tr>\n",
       "    <tr>\n",
       "      <th>25719</th>\n",
       "      <td>הבן גידי הגיע מהארץ והוא יטפל בענינים ולהבא</td>\n",
       "      <td>[2, 7322, 12361, 1012, 2688, 14613, 2441, 7381...</td>\n",
       "      <td>שמואל ואקנין</td>\n",
       "    </tr>\n",
       "    <tr>\n",
       "      <th>25720</th>\n",
       "      <td>חופשי</td>\n",
       "      <td>[2, 7077, 3, 0, 0, 0, 0, 0, 0, 0, 0, 0, 0, 0, ...</td>\n",
       "      <td>שמואל ואקנין</td>\n",
       "    </tr>\n",
       "  </tbody>\n",
       "</table>\n",
       "<p>24961 rows × 3 columns</p>\n",
       "</div>"
      ],
      "text/plain": [
       "                                                     txt  \\\n",
       "0      א א ויהי בימי המלך מהדו ועשרים ומאה מדינה א ב ...   \n",
       "1                                                ס ט ז ר   \n",
       "2                                                    ס ר   \n",
       "3                                              דלפון ס ר   \n",
       "4                                          אספתא ס ט ח ר   \n",
       "...                                                  ...   \n",
       "25716                                     בטלוויזיה משהו   \n",
       "25717     כשהדלת נפתחת הראשון המסלול המזוודות בדרך למטוס   \n",
       "25718      האירופלוט המתפורר הרחק החיים הבאים בעיר אנשים   \n",
       "25719        הבן גידי הגיע מהארץ והוא יטפל בענינים ולהבא   \n",
       "25720                                              חופשי   \n",
       "\n",
       "                                                      wv  \\\n",
       "0      [2, 197, 197, 9847, 5403, 4131, 5081, 1008, 29...   \n",
       "1      [2, 214, 205, 203, 221, 3, 0, 0, 0, 0, 0, 0, 0...   \n",
       "2      [2, 214, 221, 3, 0, 0, 0, 0, 0, 0, 0, 0, 0, 0,...   \n",
       "3      [2, 5879, 2257, 214, 221, 3, 0, 0, 0, 0, 0, 0,...   \n",
       "4      [2, 2163, 1713, 1017, 214, 205, 204, 221, 3, 0...   \n",
       "...                                                  ...   \n",
       "25716  [2, 10511, 2686, 3, 0, 0, 0, 0, 0, 0, 0, 0, 0,...   \n",
       "25717  [2, 2356, 3519, 1019, 22650, 2289, 8018, 19750...   \n",
       "25718  [2, 3955, 4506, 1643, 1994, 2009, 1011, 14886,...   \n",
       "25719  [2, 7322, 12361, 1012, 2688, 14613, 2441, 7381...   \n",
       "25720  [2, 7077, 3, 0, 0, 0, 0, 0, 0, 0, 0, 0, 0, 0, ...   \n",
       "\n",
       "                         label  \n",
       "0      bible_אנשי הכנסת הגדולה  \n",
       "1      bible_אנשי הכנסת הגדולה  \n",
       "2      bible_אנשי הכנסת הגדולה  \n",
       "3      bible_אנשי הכנסת הגדולה  \n",
       "4      bible_אנשי הכנסת הגדולה  \n",
       "...                        ...  \n",
       "25716             שמואל ואקנין  \n",
       "25717             שמואל ואקנין  \n",
       "25718             שמואל ואקנין  \n",
       "25719             שמואל ואקנין  \n",
       "25720             שמואל ואקנין  \n",
       "\n",
       "[24961 rows x 3 columns]"
      ]
     },
     "execution_count": 113,
     "metadata": {},
     "output_type": "execute_result"
    }
   ],
   "source": [
    "new_df = df_wv[df_wv.label.apply(lambda x: True if x in USED_LABELS else False)].copy()\n",
    "new_df"
   ]
  },
  {
   "cell_type": "markdown",
   "metadata": {
    "id": "TGPbRSAKORsP"
   },
   "source": [
    "### data balancing\n",
    "**We will take MIN_SAMPLES(280) in each label**"
   ]
  },
  {
   "cell_type": "code",
   "execution_count": 114,
   "metadata": {
    "colab": {
     "base_uri": "https://localhost:8080/",
     "height": 424
    },
    "id": "K7FDz-WDORsP",
    "outputId": "5bf691b2-0edc-404f-f6e2-c4a70f31713b"
   },
   "outputs": [
    {
     "data": {
      "text/html": [
       "<div>\n",
       "<style scoped>\n",
       "    .dataframe tbody tr th:only-of-type {\n",
       "        vertical-align: middle;\n",
       "    }\n",
       "\n",
       "    .dataframe tbody tr th {\n",
       "        vertical-align: top;\n",
       "    }\n",
       "\n",
       "    .dataframe thead th {\n",
       "        text-align: right;\n",
       "    }\n",
       "</style>\n",
       "<table border=\"1\" class=\"dataframe\">\n",
       "  <thead>\n",
       "    <tr style=\"text-align: right;\">\n",
       "      <th></th>\n",
       "      <th>txt</th>\n",
       "      <th>wv</th>\n",
       "      <th>label</th>\n",
       "    </tr>\n",
       "  </thead>\n",
       "  <tbody>\n",
       "    <tr>\n",
       "      <th>0</th>\n",
       "      <td>כא א ויהי דבריהוה אלי לאמר כא ב בןאדם שים פניך...</td>\n",
       "      <td>[2, 1711, 197, 9847, 29603, 1715, 2026, 10805,...</td>\n",
       "      <td>bible_אנשי הכנסת הגדולה</td>\n",
       "    </tr>\n",
       "    <tr>\n",
       "      <th>1</th>\n",
       "      <td>ז ה כה אמר אדני יהוה רעה אחת רעה באה ז ו קץ בא...</td>\n",
       "      <td>[2, 203, 201, 2239, 2243, 16899, 4750, 10038, ...</td>\n",
       "      <td>bible_אנשי הכנסת הגדולה</td>\n",
       "    </tr>\n",
       "    <tr>\n",
       "      <th>2</th>\n",
       "      <td>לב א ויהי עשרה באחד דבריהוה אלי לאמר לב ב בןאד...</td>\n",
       "      <td>[2, 1615, 197, 9847, 4968, 5659, 29603, 1715, ...</td>\n",
       "      <td>bible_אנשי הכנסת הגדולה</td>\n",
       "    </tr>\n",
       "    <tr>\n",
       "      <th>3</th>\n",
       "      <td>א ויהי באחת עשרה באחד דבריהוה אלי לאמר ב בןאדם...</td>\n",
       "      <td>[2, 197, 9847, 8104, 4968, 5659, 29603, 1715, ...</td>\n",
       "      <td>bible_אנשי הכנסת הגדולה</td>\n",
       "    </tr>\n",
       "    <tr>\n",
       "      <th>4</th>\n",
       "      <td>יג יז ואתה בןאדם שים פניך אלבנות עמך המתנבאות ...</td>\n",
       "      <td>[2, 3651, 3923, 7926, 2044, 7741, 1046, 17136,...</td>\n",
       "      <td>bible_אנשי הכנסת הגדולה</td>\n",
       "    </tr>\n",
       "    <tr>\n",
       "      <th>...</th>\n",
       "      <td>...</td>\n",
       "      <td>...</td>\n",
       "      <td>...</td>\n",
       "    </tr>\n",
       "    <tr>\n",
       "      <th>5595</th>\n",
       "      <td>כעבור דקות ספורות הגיע מכונית משטרה וממנה ירדו...</td>\n",
       "      <td>[2, 8587, 3092, 16503, 2688, 11042, 11690, 277...</td>\n",
       "      <td>שמואל ואקנין</td>\n",
       "    </tr>\n",
       "    <tr>\n",
       "      <th>5596</th>\n",
       "      <td>פגישה גידי כדי שאנסה להסדיר מבטיח לנסות השופט</td>\n",
       "      <td>[2, 11289, 12361, 1012, 1819, 1627, 2714, 2217...</td>\n",
       "      <td>שמואל ואקנין</td>\n",
       "    </tr>\n",
       "    <tr>\n",
       "      <th>5597</th>\n",
       "      <td>בוא</td>\n",
       "      <td>[2, 7899, 3, 0, 0, 0, 0, 0, 0, 0, 0, 0, 0, 0, ...</td>\n",
       "      <td>שמואל ואקנין</td>\n",
       "    </tr>\n",
       "    <tr>\n",
       "      <th>5598</th>\n",
       "      <td>ביממת מסחר אחת גבם העדים הפער הזה הציק לך בעינ...</td>\n",
       "      <td>[2, 5806, 1644, 6378, 2091, 1998, 1046, 22929,...</td>\n",
       "      <td>שמואל ואקנין</td>\n",
       "    </tr>\n",
       "    <tr>\n",
       "      <th>5599</th>\n",
       "      <td>המילים האלה אלא היכרות רופפת ושטחית כדרך שמכיר...</td>\n",
       "      <td>[2, 7530, 3171, 1980, 12693, 17851, 1713, 1294...</td>\n",
       "      <td>שמואל ואקנין</td>\n",
       "    </tr>\n",
       "  </tbody>\n",
       "</table>\n",
       "<p>5600 rows × 3 columns</p>\n",
       "</div>"
      ],
      "text/plain": [
       "                                                    txt  \\\n",
       "0     כא א ויהי דבריהוה אלי לאמר כא ב בןאדם שים פניך...   \n",
       "1     ז ה כה אמר אדני יהוה רעה אחת רעה באה ז ו קץ בא...   \n",
       "2     לב א ויהי עשרה באחד דבריהוה אלי לאמר לב ב בןאד...   \n",
       "3     א ויהי באחת עשרה באחד דבריהוה אלי לאמר ב בןאדם...   \n",
       "4     יג יז ואתה בןאדם שים פניך אלבנות עמך המתנבאות ...   \n",
       "...                                                 ...   \n",
       "5595  כעבור דקות ספורות הגיע מכונית משטרה וממנה ירדו...   \n",
       "5596      פגישה גידי כדי שאנסה להסדיר מבטיח לנסות השופט   \n",
       "5597                                                בוא   \n",
       "5598  ביממת מסחר אחת גבם העדים הפער הזה הציק לך בעינ...   \n",
       "5599  המילים האלה אלא היכרות רופפת ושטחית כדרך שמכיר...   \n",
       "\n",
       "                                                     wv  \\\n",
       "0     [2, 1711, 197, 9847, 29603, 1715, 2026, 10805,...   \n",
       "1     [2, 203, 201, 2239, 2243, 16899, 4750, 10038, ...   \n",
       "2     [2, 1615, 197, 9847, 4968, 5659, 29603, 1715, ...   \n",
       "3     [2, 197, 9847, 8104, 4968, 5659, 29603, 1715, ...   \n",
       "4     [2, 3651, 3923, 7926, 2044, 7741, 1046, 17136,...   \n",
       "...                                                 ...   \n",
       "5595  [2, 8587, 3092, 16503, 2688, 11042, 11690, 277...   \n",
       "5596  [2, 11289, 12361, 1012, 1819, 1627, 2714, 2217...   \n",
       "5597  [2, 7899, 3, 0, 0, 0, 0, 0, 0, 0, 0, 0, 0, 0, ...   \n",
       "5598  [2, 5806, 1644, 6378, 2091, 1998, 1046, 22929,...   \n",
       "5599  [2, 7530, 3171, 1980, 12693, 17851, 1713, 1294...   \n",
       "\n",
       "                        label  \n",
       "0     bible_אנשי הכנסת הגדולה  \n",
       "1     bible_אנשי הכנסת הגדולה  \n",
       "2     bible_אנשי הכנסת הגדולה  \n",
       "3     bible_אנשי הכנסת הגדולה  \n",
       "4     bible_אנשי הכנסת הגדולה  \n",
       "...                       ...  \n",
       "5595             שמואל ואקנין  \n",
       "5596             שמואל ואקנין  \n",
       "5597             שמואל ואקנין  \n",
       "5598             שמואל ואקנין  \n",
       "5599             שמואל ואקנין  \n",
       "\n",
       "[5600 rows x 3 columns]"
      ]
     },
     "execution_count": 114,
     "metadata": {},
     "output_type": "execute_result"
    }
   ],
   "source": [
    "balanced_df = pd.DataFrame()\n",
    "for label in USED_LABELS:\n",
    "    balanced_df = balanced_df.append(new_df[new_df.label == label].sample(MIN_SAMPLES))\n",
    "    \n",
    "balanced_df.reset_index(inplace = True, drop = True)\n",
    "balanced_df"
   ]
  },
  {
   "cell_type": "code",
   "execution_count": 115,
   "metadata": {
    "colab": {
     "base_uri": "https://localhost:8080/",
     "height": 436
    },
    "id": "rqUk9eh8ORsQ",
    "outputId": "c105cace-22ec-4014-e351-6efa1068f413"
   },
   "outputs": [
    {
     "name": "stdout",
     "output_type": "stream",
     "text": [
      "The total samples of USED_Labels before Data balancing is 5600\n",
      "The minimum number of samples is 280\n",
      "The maximum number of samples is 280\n"
     ]
    },
    {
     "data": {
      "image/png": "[encoded data removed]",
      "text/plain": [
       "<Figure size 1080x720 with 1 Axes>"
      ]
     },
     "metadata": {},
     "output_type": "display_data"
    }
   ],
   "source": [
    "print(f\"The total samples of USED_Labels before Data balancing is {len(balanced_df)}\")\n",
    "\n",
    "balanced_df.groupby(\"label\").count()['txt'].plot(kind = \"bar\", figsize = (15, 10), label = \"nbr sentences\")\n",
    "plt.legend()\n",
    "plt.ylabel(\"The number of samples\")\n",
    "print(f\"The minimum number of samples is {balanced_df.groupby('label').count()['txt'].min()}\")\n",
    "print(f\"The maximum number of samples is {balanced_df.groupby('label').count()['txt'].max()}\")"
   ]
  },
  {
   "cell_type": "markdown",
   "metadata": {
    "id": "6YumegAuORsQ"
   },
   "source": [
    "### Label encoding"
   ]
  },
  {
   "cell_type": "code",
   "execution_count": 116,
   "metadata": {
    "colab": {
     "base_uri": "https://localhost:8080/"
    },
    "id": "Yb_RwLAqORsR",
    "outputId": "59fb5757-418e-49ca-f675-b8044a0242ff"
   },
   "outputs": [
    {
     "name": "stdout",
     "output_type": "stream",
     "text": [
      "[[1 0 0 ... 0 0 0]\n",
      " [1 0 0 ... 0 0 0]\n",
      " [1 0 0 ... 0 0 0]\n",
      " ...\n",
      " [0 0 0 ... 0 0 1]\n",
      " [0 0 0 ... 0 0 1]\n",
      " [0 0 0 ... 0 0 1]]\n",
      "['bible_אנשי הכנסת הגדולה' 'bible_דוד' 'bible_הושע' 'bible_חזקיה'\n",
      " 'bible_יהושוע' 'bible_ירמיה' 'bible_משה' 'bible_עזרא' 'bible_שמואל'\n",
      " 'דוד פרישמן' 'הורביץ, חיים מאיר' 'זאב יעבץ' 'חיים נחמן ביאליק'\n",
      " 'יהודה שטיינברג' 'יצחק ארטר' 'ישראל בן מאיר בלקינד' 'מתתיה דלקרוט'\n",
      " 'קנוט האמסון' 'קרל אולד' 'שמואל ואקנין']\n"
     ]
    }
   ],
   "source": [
    "from sklearn.preprocessing import MultiLabelBinarizer\n",
    "\n",
    "one_hot = MultiLabelBinarizer()\n",
    "print(one_hot.fit_transform(np.array(balanced_df.label).reshape(-1, 1)))\n",
    "print(one_hot.classes_)"
   ]
  },
  {
   "cell_type": "markdown",
   "metadata": {
    "id": "BwPqIrQeORsh"
   },
   "source": [
    "#### Applay the transformation"
   ]
  },
  {
   "cell_type": "code",
   "execution_count": 117,
   "metadata": {
    "colab": {
     "base_uri": "https://localhost:8080/",
     "height": 424
    },
    "id": "Dz6VnzcBORsi",
    "outputId": "963b5e39-a5b6-431b-91bf-a84c3ce8ced7"
   },
   "outputs": [
    {
     "data": {
      "text/html": [
       "<div>\n",
       "<style scoped>\n",
       "    .dataframe tbody tr th:only-of-type {\n",
       "        vertical-align: middle;\n",
       "    }\n",
       "\n",
       "    .dataframe tbody tr th {\n",
       "        vertical-align: top;\n",
       "    }\n",
       "\n",
       "    .dataframe thead th {\n",
       "        text-align: right;\n",
       "    }\n",
       "</style>\n",
       "<table border=\"1\" class=\"dataframe\">\n",
       "  <thead>\n",
       "    <tr style=\"text-align: right;\">\n",
       "      <th></th>\n",
       "      <th>txt</th>\n",
       "      <th>wv</th>\n",
       "      <th>label</th>\n",
       "      <th>encoded_label</th>\n",
       "    </tr>\n",
       "  </thead>\n",
       "  <tbody>\n",
       "    <tr>\n",
       "      <th>0</th>\n",
       "      <td>כא א ויהי דבריהוה אלי לאמר כא ב בןאדם שים פניך...</td>\n",
       "      <td>[2, 1711, 197, 9847, 29603, 1715, 2026, 10805,...</td>\n",
       "      <td>bible_אנשי הכנסת הגדולה</td>\n",
       "      <td>[1, 0, 0, 0, 0, 0, 0, 0, 0, 0, 0, 0, 0, 0, 0, ...</td>\n",
       "    </tr>\n",
       "    <tr>\n",
       "      <th>177</th>\n",
       "      <td>כד ט כה אמר אדני יהוה אוי עיר הדמים גםאני אגדי...</td>\n",
       "      <td>[2, 2232, 205, 2239, 2243, 16899, 4750, 15330,...</td>\n",
       "      <td>bible_אנשי הכנסת הגדולה</td>\n",
       "      <td>[1, 0, 0, 0, 0, 0, 0, 0, 0, 0, 0, 0, 0, 0, 0, ...</td>\n",
       "    </tr>\n",
       "    <tr>\n",
       "      <th>178</th>\n",
       "      <td>יג א ויהי דבריהוה אלי לאמר יג ב בןאדם הנבא אלנ...</td>\n",
       "      <td>[2, 3651, 197, 9847, 29603, 1715, 2026, 10805,...</td>\n",
       "      <td>bible_אנשי הכנסת הגדולה</td>\n",
       "      <td>[1, 0, 0, 0, 0, 0, 0, 0, 0, 0, 0, 0, 0, 0, 0, ...</td>\n",
       "    </tr>\n",
       "    <tr>\n",
       "      <th>179</th>\n",
       "      <td>מח א ואלה מקצה צפונה אליד דרךחתלן לבואחמת חצר ...</td>\n",
       "      <td>[2, 1573, 197, 10969, 20677, 16485, 2026, 1045...</td>\n",
       "      <td>bible_אנשי הכנסת הגדולה</td>\n",
       "      <td>[1, 0, 0, 0, 0, 0, 0, 0, 0, 0, 0, 0, 0, 0, 0, ...</td>\n",
       "    </tr>\n",
       "    <tr>\n",
       "      <th>180</th>\n",
       "      <td>לג א ויהי דבריהוה אלי לאמר לג ב בןאדם דבר אלבנ...</td>\n",
       "      <td>[2, 1758, 197, 9847, 29603, 1715, 2026, 10805,...</td>\n",
       "      <td>bible_אנשי הכנסת הגדולה</td>\n",
       "      <td>[1, 0, 0, 0, 0, 0, 0, 0, 0, 0, 0, 0, 0, 0, 0, ...</td>\n",
       "    </tr>\n",
       "    <tr>\n",
       "      <th>...</th>\n",
       "      <td>...</td>\n",
       "      <td>...</td>\n",
       "      <td>...</td>\n",
       "      <td>...</td>\n",
       "    </tr>\n",
       "    <tr>\n",
       "      <th>5410</th>\n",
       "      <td>ושאלה לחזור ולא אמרה</td>\n",
       "      <td>[2, 17018, 1013, 4410, 1801, 5220, 3, 0, 0, 0,...</td>\n",
       "      <td>שמואל ואקנין</td>\n",
       "      <td>[0, 0, 0, 0, 0, 0, 0, 0, 0, 0, 0, 0, 0, 0, 0, ...</td>\n",
       "    </tr>\n",
       "    <tr>\n",
       "      <th>5409</th>\n",
       "      <td>לניאדו נעלם משקפי השמש ונעץ מבט שחור באבימבולה</td>\n",
       "      <td>[2, 4051, 7741, 1008, 12984, 22367, 5846, 5756...</td>\n",
       "      <td>שמואל ואקנין</td>\n",
       "      <td>[0, 0, 0, 0, 0, 0, 0, 0, 0, 0, 0, 0, 0, 0, 0, ...</td>\n",
       "    </tr>\n",
       "    <tr>\n",
       "      <th>5408</th>\n",
       "      <td>לקחתי בחשבון שלא ניפרד לעולם מגיב בשקט</td>\n",
       "      <td>[2, 16462, 5476, 1851, 24402, 2428, 3635, 1904...</td>\n",
       "      <td>שמואל ואקנין</td>\n",
       "      <td>[0, 0, 0, 0, 0, 0, 0, 0, 0, 0, 0, 0, 0, 0, 0, ...</td>\n",
       "    </tr>\n",
       "    <tr>\n",
       "      <th>5414</th>\n",
       "      <td>חשיבה וכוח הרצון ולהלחם בכאב המעוות הזה שהוא ה...</td>\n",
       "      <td>[2, 8707, 22452, 7472, 2002, 9731, 22819, 1957...</td>\n",
       "      <td>שמואל ואקנין</td>\n",
       "      <td>[0, 0, 0, 0, 0, 0, 0, 0, 0, 0, 0, 0, 0, 0, 0, ...</td>\n",
       "    </tr>\n",
       "    <tr>\n",
       "      <th>5599</th>\n",
       "      <td>המילים האלה אלא היכרות רופפת ושטחית כדרך שמכיר...</td>\n",
       "      <td>[2, 7530, 3171, 1980, 12693, 17851, 1713, 1294...</td>\n",
       "      <td>שמואל ואקנין</td>\n",
       "      <td>[0, 0, 0, 0, 0, 0, 0, 0, 0, 0, 0, 0, 0, 0, 0, ...</td>\n",
       "    </tr>\n",
       "  </tbody>\n",
       "</table>\n",
       "<p>5600 rows × 4 columns</p>\n",
       "</div>"
      ],
      "text/plain": [
       "                                                    txt  \\\n",
       "0     כא א ויהי דבריהוה אלי לאמר כא ב בןאדם שים פניך...   \n",
       "177   כד ט כה אמר אדני יהוה אוי עיר הדמים גםאני אגדי...   \n",
       "178   יג א ויהי דבריהוה אלי לאמר יג ב בןאדם הנבא אלנ...   \n",
       "179   מח א ואלה מקצה צפונה אליד דרךחתלן לבואחמת חצר ...   \n",
       "180   לג א ויהי דבריהוה אלי לאמר לג ב בןאדם דבר אלבנ...   \n",
       "...                                                 ...   \n",
       "5410                               ושאלה לחזור ולא אמרה   \n",
       "5409     לניאדו נעלם משקפי השמש ונעץ מבט שחור באבימבולה   \n",
       "5408             לקחתי בחשבון שלא ניפרד לעולם מגיב בשקט   \n",
       "5414  חשיבה וכוח הרצון ולהלחם בכאב המעוות הזה שהוא ה...   \n",
       "5599  המילים האלה אלא היכרות רופפת ושטחית כדרך שמכיר...   \n",
       "\n",
       "                                                     wv  \\\n",
       "0     [2, 1711, 197, 9847, 29603, 1715, 2026, 10805,...   \n",
       "177   [2, 2232, 205, 2239, 2243, 16899, 4750, 15330,...   \n",
       "178   [2, 3651, 197, 9847, 29603, 1715, 2026, 10805,...   \n",
       "179   [2, 1573, 197, 10969, 20677, 16485, 2026, 1045...   \n",
       "180   [2, 1758, 197, 9847, 29603, 1715, 2026, 10805,...   \n",
       "...                                                 ...   \n",
       "5410  [2, 17018, 1013, 4410, 1801, 5220, 3, 0, 0, 0,...   \n",
       "5409  [2, 4051, 7741, 1008, 12984, 22367, 5846, 5756...   \n",
       "5408  [2, 16462, 5476, 1851, 24402, 2428, 3635, 1904...   \n",
       "5414  [2, 8707, 22452, 7472, 2002, 9731, 22819, 1957...   \n",
       "5599  [2, 7530, 3171, 1980, 12693, 17851, 1713, 1294...   \n",
       "\n",
       "                        label  \\\n",
       "0     bible_אנשי הכנסת הגדולה   \n",
       "177   bible_אנשי הכנסת הגדולה   \n",
       "178   bible_אנשי הכנסת הגדולה   \n",
       "179   bible_אנשי הכנסת הגדולה   \n",
       "180   bible_אנשי הכנסת הגדולה   \n",
       "...                       ...   \n",
       "5410             שמואל ואקנין   \n",
       "5409             שמואל ואקנין   \n",
       "5408             שמואל ואקנין   \n",
       "5414             שמואל ואקנין   \n",
       "5599             שמואל ואקנין   \n",
       "\n",
       "                                          encoded_label  \n",
       "0     [1, 0, 0, 0, 0, 0, 0, 0, 0, 0, 0, 0, 0, 0, 0, ...  \n",
       "177   [1, 0, 0, 0, 0, 0, 0, 0, 0, 0, 0, 0, 0, 0, 0, ...  \n",
       "178   [1, 0, 0, 0, 0, 0, 0, 0, 0, 0, 0, 0, 0, 0, 0, ...  \n",
       "179   [1, 0, 0, 0, 0, 0, 0, 0, 0, 0, 0, 0, 0, 0, 0, ...  \n",
       "180   [1, 0, 0, 0, 0, 0, 0, 0, 0, 0, 0, 0, 0, 0, 0, ...  \n",
       "...                                                 ...  \n",
       "5410  [0, 0, 0, 0, 0, 0, 0, 0, 0, 0, 0, 0, 0, 0, 0, ...  \n",
       "5409  [0, 0, 0, 0, 0, 0, 0, 0, 0, 0, 0, 0, 0, 0, 0, ...  \n",
       "5408  [0, 0, 0, 0, 0, 0, 0, 0, 0, 0, 0, 0, 0, 0, 0, ...  \n",
       "5414  [0, 0, 0, 0, 0, 0, 0, 0, 0, 0, 0, 0, 0, 0, 0, ...  \n",
       "5599  [0, 0, 0, 0, 0, 0, 0, 0, 0, 0, 0, 0, 0, 0, 0, ...  \n",
       "\n",
       "[5600 rows x 4 columns]"
      ]
     },
     "execution_count": 117,
     "metadata": {},
     "output_type": "execute_result"
    }
   ],
   "source": [
    "balanced_df[\"encoded_label\"] = balanced_df.label.apply(lambda x: list(one_hot.transform([[x]])[-1]))\n",
    "balanced_df.sort_values(by = \"label\", inplace = True)\n",
    "balanced_df"
   ]
  },
  {
   "cell_type": "markdown",
   "metadata": {
    "id": "0pdoxxHYORsi"
   },
   "source": [
    "## create X, Y"
   ]
  },
  {
   "cell_type": "code",
   "execution_count": 118,
   "metadata": {
    "colab": {
     "base_uri": "https://localhost:8080/"
    },
    "id": "32jFlP5CORsl",
    "outputId": "6c3a0bae-c05d-41fc-d80e-1345728e4ac6"
   },
   "outputs": [
    {
     "name": "stdout",
     "output_type": "stream",
     "text": [
      "(5600, 20)\n"
     ]
    }
   ],
   "source": [
    "list_wv_txt = []\n",
    "Y_tmp0 = []\n",
    "for token, _label in zip(balanced_df.wv, balanced_df.encoded_label):\n",
    "    list_wv_txt.append(token.reshape(-1).tolist())\n",
    "    Y_tmp0.append(_label)  \n",
    "print(np.shape(Y_tmp0)) "
   ]
  },
  {
   "cell_type": "code",
   "execution_count": 119,
   "metadata": {
    "colab": {
     "base_uri": "https://localhost:8080/"
    },
    "id": "sbUM_jFSORsm",
    "outputId": "6e6c1ee9-8de6-4e8d-d161-f32631617259",
    "scrolled": true
   },
   "outputs": [
    {
     "name": "stdout",
     "output_type": "stream",
     "text": [
      "The data_batch_size is: 10\n",
      "The number of Blocks is: 560\n"
     ]
    }
   ],
   "source": [
    "batch_factor = 2\n",
    "chunk_size = 20  # The number of Word vectors/sentences\n",
    "\n",
    "data_batch_size = chunk_size // batch_factor\n",
    "print(f\"The data_batch_size is: {data_batch_size}\")\n",
    "\n",
    "list_wv_txt = np.asarray(list_wv_txt)\n",
    "bloks = len(list_wv_txt) // data_batch_size\n",
    "print(f\"The number of Blocks is: {bloks}\")\n",
    "\n",
    "X_1 = []\n",
    "Y_tmp1 = []\n",
    "for kk in range(bloks):\n",
    "    X_1.append(list_wv_txt[kk * data_batch_size: (kk + 1) * data_batch_size])\n",
    "    Y_tmp1.append(Y_tmp0[kk * data_batch_size: (kk + 1) * data_batch_size])"
   ]
  },
  {
   "cell_type": "code",
   "execution_count": 120,
   "metadata": {
    "colab": {
     "base_uri": "https://localhost:8080/"
    },
    "id": "MmFKkd60ORsn",
    "outputId": "c95d2007-4ea2-4d3f-bf73-6a03d1f35dba"
   },
   "outputs": [
    {
     "name": "stdout",
     "output_type": "stream",
     "text": [
      "X (560, 10, 300)\n",
      "Y (560, 20)\n"
     ]
    }
   ],
   "source": [
    "Xs = []\n",
    "Y_tmp2 = []\n",
    "indices = [i for i, y in enumerate(Y_tmp1) if len(np.unique([str(j) for j in y])) > 1]\n",
    "indices\n",
    "for ii in range(len(X_1)):\n",
    "    if ii not in indices:\n",
    "        Xs.append(X_1[ii])\n",
    "        Y_tmp2.append(Y_tmp1[ii][-1])\n",
    "Xs = np.asarray(Xs)\n",
    "Y = np.array(Y_tmp2, dtype = np.float32)\n",
    "print(\"X\", np.shape(Xs))\n",
    "print(\"Y\", np.shape(Y))"
   ]
  },
  {
   "cell_type": "markdown",
   "metadata": {
    "id": "mpYU2bNFORso"
   },
   "source": [
    "####  Standardizing the data "
   ]
  },
  {
   "cell_type": "code",
   "execution_count": 121,
   "metadata": {
    "id": "PNqtKxxZORso"
   },
   "outputs": [],
   "source": [
    "from sklearn.preprocessing import StandardScaler\n",
    "# standardize dataset\n",
    "std_scaler = StandardScaler()\n",
    "X = std_scaler.fit_transform(Xs.reshape(-1, 1))\n",
    "X = X.reshape(np.shape(Xs))"
   ]
  },
  {
   "cell_type": "markdown",
   "metadata": {
    "id": "S_i-LI4RORss"
   },
   "source": [
    "###  Split the data "
   ]
  },
  {
   "cell_type": "code",
   "execution_count": 122,
   "metadata": {
    "colab": {
     "base_uri": "https://localhost:8080/"
    },
    "id": "rKxBjewaORst",
    "outputId": "68c3cbe0-2738-4f99-a065-0a2a1e1d0ef8"
   },
   "outputs": [
    {
     "name": "stdout",
     "output_type": "stream",
     "text": [
      "Train:\n",
      "x_train (448, 10, 300)\n",
      "y_train (448, 20)\n",
      "Test:\n",
      "x_test (112, 10, 300)\n",
      "y_test (112, 20)\n",
      "Duplicated Train:\n",
      "x_train (896, 10, 300)\n",
      "y_train (896, 20)\n",
      "Duplicated Test:\n",
      "x_test (1120, 10, 300)\n",
      "y_test (1120, 20)\n"
     ]
    }
   ],
   "source": [
    "import numpy as np\n",
    "from sklearn.model_selection import train_test_split\n",
    "\n",
    "test_size = 0.2\n",
    "x_train, x_test, y_train, y_test = train_test_split(X, Y, test_size = test_size, random_state = 121, shuffle = True)\n",
    "\n",
    "print(\"Train:\")\n",
    "print(\"x_train\", x_train.shape)\n",
    "print(\"y_train\", y_train.shape)\n",
    "print(\"Test:\")\n",
    "print(\"x_test\", x_test.shape)\n",
    "print(\"y_test\", y_test.shape)\n",
    "\n",
    "x_train_duplicated = np.concatenate((x_train, x_train))\n",
    "y_train_duplicated = np.concatenate((y_train, y_train))\n",
    "\n",
    "x_test_duplicated = np.concatenate((x_train, x_test))\n",
    "y_test_duplicated = np.concatenate((y_train, y_test))\n",
    "x_test_duplicated = np.concatenate((x_test_duplicated, x_test_duplicated))\n",
    "y_test_duplicated = np.concatenate((y_test_duplicated, y_test_duplicated))\n",
    "\n",
    "print(\"Duplicated Train:\")\n",
    "print(\"x_train\", x_train_duplicated.shape)\n",
    "print(\"y_train\", y_train_duplicated.shape)\n",
    "print(\"Duplicated Test:\")\n",
    "print(\"x_test\", x_test_duplicated.shape)\n",
    "print(\"y_test\", y_test_duplicated.shape)"
   ]
  },
  {
   "cell_type": "markdown",
   "metadata": {
    "id": "68zdFsF1ORsu"
   },
   "source": [
    "## Create the model"
   ]
  },
  {
   "cell_type": "code",
   "execution_count": 123,
   "metadata": {},
   "outputs": [],
   "source": [
    "import numpy as np\n",
    "import keras\n",
    "from keras import Sequential\n",
    "from keras import backend as K\n",
    "from keras.layers import Flatten, Dense, Dropout, BatchNormalization, LeakyReLU, Layer\n",
    "from keras.layers.convolutional import MaxPooling1D, Conv1D\n",
    "from keras.callbacks import EarlyStopping\n",
    "import tensorflow as tf\n",
    "import gc\n",
    "import matplotlib.pyplot as plt\n",
    "\n",
    "global model, word_model\n",
    "\n",
    "def cnn(X, Y):\n",
    "    num_classes = 2\n",
    "\n",
    "    print('Data:')\n",
    "    print(\"X data\", X.shape)\n",
    "    print(\"Y data\", Y.shape)\n",
    "    \n",
    "    X_train, Y_train = X, Y\n",
    "    \n",
    "    # Creating the model\n",
    "    model = Sequential()\n",
    "    model.add(Conv1D(filters = 1000, kernel_size = 3, padding = 'valid', activation = 'relu', input_shape = (data_batch_size, emb_dim)))\n",
    "    model.add(MaxPooling1D(pool_size = 1))\n",
    "    model.add(Dropout(0.3))\n",
    "    model.add(Conv1D(filters = 1000, kernel_size = 4, padding = 'valid', activation = 'relu', input_shape = (data_batch_size, emb_dim)))\n",
    "    model.add(MaxPooling1D(pool_size = 1))\n",
    "    model.add(Dropout(0.3))\n",
    "    model.add(Conv1D(filters = 1000, kernel_size = 5, padding = 'valid', activation = 'relu', input_shape = (data_batch_size, emb_dim)))\n",
    "    model.add(MaxPooling1D(pool_size = 1))\n",
    "    model.add(Dropout(0.3))\n",
    "    model.add(Flatten())\n",
    "    model.add(Dense(128, activation = 'linear'))\n",
    "    model.add(Dense(20, activation = 'softmax'))\n",
    "    model.summary()\n",
    "    model.compile(loss = 'binary_crossentropy', optimizer = 'adam', metrics = ['accuracy'])\n",
    "\n",
    "    print('Fit the model...')\n",
    "\n",
    "    history = model.fit(x_train_duplicated, y_train_duplicated, validation_split = test_size, epochs = 12, verbose = 1)\n",
    "    del X, Y\n",
    "\n",
    "    gc.collect()\n",
    "\n",
    "    return model, history"
   ]
  },
  {
   "cell_type": "code",
   "execution_count": 124,
   "metadata": {},
   "outputs": [
    {
     "name": "stdout",
     "output_type": "stream",
     "text": [
      "Data:\n",
      "X data (896, 10, 300)\n",
      "Y data (896, 20)\n",
      "Model: \"sequential_2\"\n",
      "_________________________________________________________________\n",
      " Layer (type)                Output Shape              Param #   \n",
      "=================================================================\n",
      " conv1d_6 (Conv1D)           (None, 8, 1000)           901000    \n",
      "                                                                 \n",
      " max_pooling1d_6 (MaxPooling  (None, 8, 1000)          0         \n",
      " 1D)                                                             \n",
      "                                                                 \n",
      " dropout_6 (Dropout)         (None, 8, 1000)           0         \n",
      "                                                                 \n",
      " conv1d_7 (Conv1D)           (None, 5, 1000)           4001000   \n",
      "                                                                 \n",
      " max_pooling1d_7 (MaxPooling  (None, 5, 1000)          0         \n",
      " 1D)                                                             \n",
      "                                                                 \n",
      " dropout_7 (Dropout)         (None, 5, 1000)           0         \n",
      "                                                                 \n",
      " conv1d_8 (Conv1D)           (None, 1, 1000)           5001000   \n",
      "                                                                 \n",
      " max_pooling1d_8 (MaxPooling  (None, 1, 1000)          0         \n",
      " 1D)                                                             \n",
      "                                                                 \n",
      " dropout_8 (Dropout)         (None, 1, 1000)           0         \n",
      "                                                                 \n",
      " flatten_2 (Flatten)         (None, 1000)              0         \n",
      "                                                                 \n",
      " dense_4 (Dense)             (None, 128)               128128    \n",
      "                                                                 \n",
      " dense_5 (Dense)             (None, 20)                2580      \n",
      "                                                                 \n",
      "=================================================================\n",
      "Total params: 10,033,708\n",
      "Trainable params: 10,033,708\n",
      "Non-trainable params: 0\n",
      "_________________________________________________________________\n",
      "Fit the model...\n",
      "Epoch 1/12\n",
      "23/23 [==============================] - 26s 1s/step - loss: 0.2710 - accuracy: 0.1034 - val_loss: 0.1588 - val_accuracy: 0.1944\n",
      "Epoch 2/12\n",
      "23/23 [==============================] - 24s 1s/step - loss: 0.1458 - accuracy: 0.3338 - val_loss: 0.1242 - val_accuracy: 0.5056\n",
      "Epoch 3/12\n",
      "23/23 [==============================] - 22s 946ms/step - loss: 0.1049 - accuracy: 0.5782 - val_loss: 0.0814 - val_accuracy: 0.6667\n",
      "Epoch 4/12\n",
      "23/23 [==============================] - 22s 943ms/step - loss: 0.0762 - accuracy: 0.6550 - val_loss: 0.0646 - val_accuracy: 0.7556\n",
      "Epoch 5/12\n",
      "23/23 [==============================] - 24s 1s/step - loss: 0.0606 - accuracy: 0.7696 - val_loss: 0.0488 - val_accuracy: 0.8111\n",
      "Epoch 6/12\n",
      "23/23 [==============================] - 25s 1s/step - loss: 0.0450 - accuracy: 0.8380 - val_loss: 0.0429 - val_accuracy: 0.8444\n",
      "Epoch 7/12\n",
      "23/23 [==============================] - 29s 1s/step - loss: 0.0341 - accuracy: 0.8911 - val_loss: 0.0304 - val_accuracy: 0.9389\n",
      "Epoch 8/12\n",
      "23/23 [==============================] - 31s 1s/step - loss: 0.0272 - accuracy: 0.9106 - val_loss: 0.0235 - val_accuracy: 0.9333\n",
      "Epoch 9/12\n",
      "23/23 [==============================] - 33s 1s/step - loss: 0.0197 - accuracy: 0.9483 - val_loss: 0.0176 - val_accuracy: 0.9556\n",
      "Epoch 10/12\n",
      "23/23 [==============================] - 31s 1s/step - loss: 0.0164 - accuracy: 0.9609 - val_loss: 0.0186 - val_accuracy: 0.9611\n",
      "Epoch 11/12\n",
      "23/23 [==============================] - 28s 1s/step - loss: 0.0150 - accuracy: 0.9581 - val_loss: 0.0134 - val_accuracy: 0.9944\n",
      "Epoch 12/12\n",
      "23/23 [==============================] - 28s 1s/step - loss: 0.0114 - accuracy: 0.9818 - val_loss: 0.0097 - val_accuracy: 0.9889\n"
     ]
    }
   ],
   "source": [
    "cnn_model, history = cnn(x_train_duplicated, y_train_duplicated)"
   ]
  },
  {
   "cell_type": "markdown",
   "metadata": {
    "id": "SFYvOu-JORsz"
   },
   "source": [
    "## Evaluate the model"
   ]
  },
  {
   "cell_type": "code",
   "execution_count": 125,
   "metadata": {},
   "outputs": [],
   "source": [
    "import matplotlib.pyplot as plt\n",
    "\n",
    "def plot_accuracy_and_loss(history):\n",
    "    plt.figure(figsize = (20, 10))\n",
    "    plt.subplot(1, 2, 1)\n",
    "    plt.suptitle('Optimizer: Adam', fontsize = 16)\n",
    "    plt.ylabel('Loss', fontsize = 16)\n",
    "    plt.plot(history.history['loss'], label = 'Training Loss')\n",
    "    plt.plot(history.history['val_loss'], label = 'Validation Loss')\n",
    "    plt.legend(loc = 'upper right')\n",
    "    plt.subplot(1, 2, 2)\n",
    "    plt.ylabel('Accuracy', fontsize = 16)\n",
    "    plt.plot(history.history['accuracy'], label = 'Training Accuracy')\n",
    "    plt.plot(history.history['val_accuracy'], label = 'Validation Accuracy')\n",
    "    plt.legend(loc = 'lower right')\n",
    "    plt.show()"
   ]
  },
  {
   "cell_type": "code",
   "execution_count": 126,
   "metadata": {
    "colab": {
     "base_uri": "https://localhost:8080/",
     "height": 663
    },
    "id": "yGYAkbcaORs6",
    "outputId": "216e9beb-63df-4142-d808-3361311a8780"
   },
   "outputs": [
    {
     "data": {
      "image/png": "[encoded data removed]",
      "text/plain": [
       "<Figure size 1440x720 with 2 Axes>"
      ]
     },
     "metadata": {},
     "output_type": "display_data"
    }
   ],
   "source": [
    "plot_accuracy_and_loss(history)"
   ]
  },
  {
   "cell_type": "code",
   "execution_count": 127,
   "metadata": {
    "colab": {
     "base_uri": "https://localhost:8080/"
    },
    "id": "SL-B_LjCXaR4",
    "outputId": "7dc492bc-05f4-45da-a291-baad368f1eee"
   },
   "outputs": [
    {
     "name": "stdout",
     "output_type": "stream",
     "text": [
      "35/35 [==============================] - 1s 31ms/step - loss: 0.0575 - accuracy: 0.8518\n"
     ]
    },
    {
     "data": {
      "text/plain": [
       "[0.057476308196783066, 0.8517857193946838]"
      ]
     },
     "execution_count": 127,
     "metadata": {},
     "output_type": "execute_result"
    }
   ],
   "source": [
    "cnn_model.evaluate(x_test_duplicated, y_test_duplicated)"
   ]
  },
  {
   "cell_type": "code",
   "execution_count": 128,
   "metadata": {
    "colab": {
     "base_uri": "https://localhost:8080/"
    },
    "id": "qVbt0ClOORs9",
    "outputId": "e8d55356-31bf-423a-813c-5e5df13e894c"
   },
   "outputs": [
    {
     "name": "stdout",
     "output_type": "stream",
     "text": [
      "35/35 [==============================] - 2s 38ms/step\n"
     ]
    }
   ],
   "source": [
    "# Prediction\n",
    "y_pred = cnn_model.predict(x_test_duplicated)"
   ]
  },
  {
   "cell_type": "markdown",
   "metadata": {},
   "source": [
    "**plot_confusion_matrix**: creates a visual representation of the confusion matrix "
   ]
  },
  {
   "cell_type": "code",
   "execution_count": 129,
   "metadata": {},
   "outputs": [],
   "source": [
    "def plot_confusion_matrix(ytest, ypred, classes, title = 'Confusion matrix', cmap = plt.cm.Blues):\n",
    "    cnf_matrix = confusion_matrix(ytest, ypred)\n",
    "    cm = cnf_matrix\n",
    "    np.set_printoptions(precision = 2)    \n",
    "    cm = cm.astype('float') / cm.sum(axis = 1)[:, np.newaxis]\n",
    "    plt.imshow(cm, interpolation = 'nearest', cmap = cmap)\n",
    "    plt.title(title)\n",
    "    plt.colorbar()\n",
    "    tick_marks = np.arange(len(classes))\n",
    "    plt.xticks(tick_marks, classes, rotation = 45)\n",
    "    plt.yticks(tick_marks, classes)\n",
    "    fmt = '.2f'\n",
    "    thresh = cm.max() / 2.\n",
    "    for i, j in itertools.product(range(cm.shape[0]), range(cm.shape[1])):\n",
    "        plt.text(j, i, format(cm[i, j], fmt),\n",
    "                 horizontalalignment = \"center\", size = \"x-large\",\n",
    "                 color = \"white\" if cm[i, j] > thresh else \"black\")\n",
    "    plt.ylabel('True label')\n",
    "    plt.xlabel('Predicted label')\n",
    "    plt.tight_layout()\n",
    "    sb.set_style(\"dark\")\n",
    "    plt.figure()\n",
    "    plt.show()  "
   ]
  },
  {
   "cell_type": "code",
   "execution_count": 154,
   "metadata": {
    "colab": {
     "base_uri": "https://localhost:8080/",
     "height": 602
    },
    "id": "vnpnT7JzORs-",
    "outputId": "765a3bb6-faf4-4a35-a67d-5bb6b01f3a39"
   },
   "outputs": [
    {
     "data": {
      "image/png": "[encoded data removed]",
      "text/plain": [
       "<Figure size 1512x1008 with 2 Axes>"
      ]
     },
     "metadata": {},
     "output_type": "display_data"
    },
    {
     "data": {
      "text/plain": [
       "<Figure size 432x288 with 0 Axes>"
      ]
     },
     "metadata": {},
     "output_type": "display_data"
    }
   ],
   "source": [
    "plt.figure(figsize = (21, 14))\n",
    "plot_confusion_matrix(y_test_duplicated.argmax(axis = 1), y_pred.argmax(axis = 1), USED_LABELS, title = 'Confusion matrix', cmap = plt.cm.Blues)"
   ]
  },
  {
   "cell_type": "markdown",
   "metadata": {
    "id": "kcM1jNGIORtA"
   },
   "source": [
    "## Get predictions"
   ]
  },
  {
   "cell_type": "markdown",
   "metadata": {
    "id": "xuVx167ljon6"
   },
   "source": [
    "### Load text"
   ]
  },
  {
   "cell_type": "code",
   "execution_count": 131,
   "metadata": {
    "id": "p2u9R858ORtB"
   },
   "outputs": [],
   "source": [
    "txt_to_classify_file = os.path.join(colab_path, data_base_name, \"text to classify.txt\")\n",
    "with open(txt_to_classify_file, \"r\", encoding=\"utf-8\") as txt_file:\n",
    "    txt_to_classify = txt_file.read()"
   ]
  },
  {
   "cell_type": "markdown",
   "metadata": {
    "id": "uP4YGvuLjuLK"
   },
   "source": [
    "### Split the text into sentences and get tokens (WV)"
   ]
  },
  {
   "cell_type": "code",
   "execution_count": 132,
   "metadata": {
    "id": "EicVbEn9ORtB"
   },
   "outputs": [],
   "source": [
    "phrases = txt_to_classify.split(\"\\n\")\n",
    "phrases = [x for x in phrases if str(x) != '']\n",
    "wvs__ = []\n",
    "for phrase in phrases:\n",
    "    processed_text = preprocessing_stage(phrase)\n",
    "    processed_text = [x for x in processed_text if str(x) != '']\n",
    "    if len(processed_text) > 1:\n",
    "        wv = hebBert_algorithm(processed_text, tokenizer)\n",
    "        wv = np.pad(wv.reshape(-1), (0, emb_dim), 'constant')[:emb_dim]\n",
    "        wvs__.append(wv)"
   ]
  },
  {
   "cell_type": "markdown",
   "metadata": {
    "id": "fXPTNkg4j3cL"
   },
   "source": [
    "### Format the WV into (blocks, batch_size, emb_dim)"
   ]
  },
  {
   "cell_type": "code",
   "execution_count": 133,
   "metadata": {
    "colab": {
     "base_uri": "https://localhost:8080/"
    },
    "id": "MdiQF7frbVew",
    "outputId": "6c5e44dc-4f71-4e10-beb8-1e5f9153ace5"
   },
   "outputs": [
    {
     "name": "stdout",
     "output_type": "stream",
     "text": [
      "(22, 10, 300)\n"
     ]
    }
   ],
   "source": [
    "X___1 = []\n",
    "for kk in range(len(wvs__) // data_batch_size):\n",
    "    X___1.append(wvs__[kk * data_batch_size: (kk + 1) * data_batch_size])\n",
    "X___1 = np.array(X___1)\n",
    "print(X___1.shape)"
   ]
  },
  {
   "cell_type": "markdown",
   "metadata": {
    "id": "1UGBCTXbkEpo"
   },
   "source": [
    "#### Scale the WV"
   ]
  },
  {
   "cell_type": "code",
   "execution_count": 134,
   "metadata": {
    "id": "-j7tCWjgkI6O"
   },
   "outputs": [],
   "source": [
    "X__ = std_scaler.transform(X___1.reshape(-1, 1))\n",
    "X__ = X__.reshape(np.shape(X___1))"
   ]
  },
  {
   "cell_type": "markdown",
   "metadata": {
    "id": "Fuojx3LQjivG"
   },
   "source": [
    "#### Prediction"
   ]
  },
  {
   "cell_type": "code",
   "execution_count": 135,
   "metadata": {
    "colab": {
     "base_uri": "https://localhost:8080/"
    },
    "id": "qJqX1bZuicFz",
    "outputId": "0f1d3d16-b5bf-4135-a440-77d7cfc2c65c"
   },
   "outputs": [
    {
     "name": "stdout",
     "output_type": "stream",
     "text": [
      "1/1 [==============================] - 0s 200ms/step\n",
      "This text is classed as bible_דוד\n"
     ]
    }
   ],
   "source": [
    "prediction = cnn_model.predict(X__)\n",
    "prediction__ = []\n",
    "for i in prediction:\n",
    "    prediction__.append([1 if j >= 0.5 else 0 for j in i])\n",
    "\n",
    "# Get the class Using a voting technique \n",
    "voting_map = {}\n",
    "for i in one_hot.inverse_transform(np.array(prediction__)):\n",
    "    for j in one_hot.inverse_transform(np.array(prediction__)):\n",
    "        if i == j:\n",
    "            if i in voting_map.keys():\n",
    "                voting_map[i] += 1\n",
    "            else:\n",
    "                voting_map[i] = 1\n",
    "\n",
    "# Get the final classification for the text\n",
    "res = str([classe for i, classe in enumerate(voting_map.keys()) if i == np.argmax(list(voting_map.values()))][0])\n",
    "print(f\"This text is classed as {res[2: -3]}\")"
   ]
  }
 ],
 "metadata": {
  "accelerator": "GPU",
  "colab": {
   "provenance": []
  },
  "gpuClass": "standard",
  "kernelspec": {
   "display_name": "Python 3 (ipykernel)",
   "language": "python",
   "name": "python3"
  },
  "language_info": {
   "codemirror_mode": {
    "name": "ipython",
    "version": 3
   },
   "file_extension": ".py",
   "mimetype": "text/x-python",
   "name": "python",
   "nbconvert_exporter": "python",
   "pygments_lexer": "ipython3",
   "version": "3.9.7"
  },
  "vscode": {
   "interpreter": {
    "hash": "173fe52379437b78f95c8980b8ee9f2930fd7b56889ab31a72735475ddc10c81"
   }
  }
 },
 "nbformat": 4,
 "nbformat_minor": 1
}
