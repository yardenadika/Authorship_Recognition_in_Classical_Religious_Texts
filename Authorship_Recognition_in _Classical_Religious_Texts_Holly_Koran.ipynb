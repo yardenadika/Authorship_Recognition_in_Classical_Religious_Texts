{
 "cells": [
  {
   "cell_type": "code",
   "execution_count": 82,
   "metadata": {},
   "outputs": [],
   "source": [
    "import os, random, seaborn as sb\n",
    "import numpy as np, matplotlib.pyplot as plt\n",
    "import pandas as pd, itertools\n",
    "from sklearn.metrics import confusion_matrix"
   ]
  },
  {
   "cell_type": "markdown",
   "metadata": {},
   "source": [
    "## Read the dataset csv file"
   ]
  },
  {
   "cell_type": "code",
   "execution_count": 83,
   "metadata": {},
   "outputs": [],
   "source": [
    "colab_path = \"C:/Users/yadik/Desktop/final_code/data\"\n",
    "# colab_path = \"C:/Users/USER/OneDrive - ort braude college of engineering/Desktop/data\"\n",
    "data_base_name = \"data_base_Holly_Koran\""
   ]
  },
  {
   "cell_type": "code",
   "execution_count": 84,
   "metadata": {},
   "outputs": [
    {
     "name": "stdout",
     "output_type": "stream",
     "text": [
      "+ C:/Users/yadik/Desktop/final_code/data\\data_base_Holly_Koran\\Holly Koran   القران الكريم.txt\n",
      "+ C:/Users/yadik/Desktop/final_code/data\\data_base_Holly_Koran\\imposters\\أميرة علي عبد الصادق   أحدب نوتردام.txt\n",
      "+ C:/Users/yadik/Desktop/final_code/data\\data_base_Holly_Koran\\imposters\\أميرة علي عبد الصادق   الاخ الاصغر.txt\n",
      "+ C:/Users/yadik/Desktop/final_code/data\\data_base_Holly_Koran\\imposters\\أميرة علي عبد الصادق   الامير والفقير.txt\n",
      "+ C:/Users/yadik/Desktop/final_code/data\\data_base_Holly_Koran\\imposters\\أميرة علي عبد الصادق   الخروج دون حفظ.txt\n",
      "+ C:/Users/yadik/Desktop/final_code/data\\data_base_Holly_Koran\\imposters\\احلام مستغانمي   الأسود يليق بكِ.txt\n",
      "+ C:/Users/yadik/Desktop/final_code/data\\data_base_Holly_Koran\\imposters\\تامر إبراهيم   نحن.txt\n",
      "+ C:/Users/yadik/Desktop/final_code/data\\data_base_Holly_Koran\\imposters\\جبران خليل جبران   الاجنحة المتكسرة.txt\n",
      "+ C:/Users/yadik/Desktop/final_code/data\\data_base_Holly_Koran\\imposters\\جبران خليل جبران   الاحلام المتمردة.txt\n",
      "+ C:/Users/yadik/Desktop/final_code/data\\data_base_Holly_Koran\\imposters\\جرجي زيدان   أبو مسلم الخرساني.txt\n",
      "+ C:/Users/yadik/Desktop/final_code/data\\data_base_Holly_Koran\\imposters\\جرجي زيدان   ارمانوسة المصرية.txt\n",
      "+ C:/Users/yadik/Desktop/final_code/data\\data_base_Holly_Koran\\imposters\\جرجي زيدان   الاسير المهتدى.txt\n",
      "+ C:/Users/yadik/Desktop/final_code/data\\data_base_Holly_Koran\\imposters\\جرجي زيدان   الامين والمامون.txt\n",
      "+ C:/Users/yadik/Desktop/final_code/data\\data_base_Holly_Koran\\imposters\\جرجي زيدان   الانقلاب العثماني.txt\n",
      "+ C:/Users/yadik/Desktop/final_code/data\\data_base_Holly_Koran\\imposters\\د. أحمد خالد توفيق   الشيء فى الصندوق.txt\n",
      "+ C:/Users/yadik/Desktop/final_code/data\\data_base_Holly_Koran\\imposters\\د. أحمد خالد توفيق   د. أحمد خالد توفيق.txt\n",
      "+ C:/Users/yadik/Desktop/final_code/data\\data_base_Holly_Koran\\imposters\\د. أحمد خالد توفيق   مصاص الدماء.txt\n",
      "+ C:/Users/yadik/Desktop/final_code/data\\data_base_Holly_Koran\\imposters\\د. سليمان زيدان   أوزار .txt\n",
      "+ C:/Users/yadik/Desktop/final_code/data\\data_base_Holly_Koran\\imposters\\رياض محمد إسليم الحلايقه   أصدقائي الصغار.txt\n",
      "+ C:/Users/yadik/Desktop/final_code/data\\data_base_Holly_Koran\\imposters\\سلامة موسى   افتحوا لها الباب  .txt\n",
      "+ C:/Users/yadik/Desktop/final_code/data\\data_base_Holly_Koran\\imposters\\سيد قطـب   أشواك.txt\n",
      "+ C:/Users/yadik/Desktop/final_code/data\\data_base_Holly_Koran\\imposters\\صلاح الدين ذهني   أقوى من الحب  .txt\n",
      "+ C:/Users/yadik/Desktop/final_code/data\\data_base_Holly_Koran\\imposters\\طه حسين   احلام شهرازاد.txt\n",
      "+ C:/Users/yadik/Desktop/final_code/data\\data_base_Holly_Koran\\imposters\\طه حسين   اديب.txt\n",
      "+ C:/Users/yadik/Desktop/final_code/data\\data_base_Holly_Koran\\imposters\\طه حسين   الايام.txt\n",
      "+ C:/Users/yadik/Desktop/final_code/data\\data_base_Holly_Koran\\imposters\\طه حسين   الحب الضائع .txt\n",
      "+ C:/Users/yadik/Desktop/final_code/data\\data_base_Holly_Koran\\imposters\\طه حسين   دعاء الكروان .txt\n",
      "+ C:/Users/yadik/Desktop/final_code/data\\data_base_Holly_Koran\\imposters\\عبد الكريم ناصيف   أفراح ليلة القدر.txt\n",
      "+ C:/Users/yadik/Desktop/final_code/data\\data_base_Holly_Koran\\imposters\\عبد الكريم ناصيف   الطريق الى الشمس.txt\n",
      "+ C:/Users/yadik/Desktop/final_code/data\\data_base_Holly_Koran\\imposters\\عبدالسلام المودني   أسفار الرجوع .txt\n",
      "+ C:/Users/yadik/Desktop/final_code/data\\data_base_Holly_Koran\\imposters\\غانم خليل   لن تورق الكروم.txt\n",
      "+ C:/Users/yadik/Desktop/final_code/data\\data_base_Holly_Koran\\imposters\\فرح انطون   أورشليم الجديدة.txt\n",
      "+ C:/Users/yadik/Desktop/final_code/data\\data_base_Holly_Koran\\imposters\\فرح انطون   الوحش.txt\n",
      "+ C:/Users/yadik/Desktop/final_code/data\\data_base_Holly_Koran\\imposters\\مارون عبود   احاديث القرية.txt\n",
      "+ C:/Users/yadik/Desktop/final_code/data\\data_base_Holly_Koran\\imposters\\مارون عبود   الأمير الأحمر.txt\n",
      "+ C:/Users/yadik/Desktop/final_code/data\\data_base_Holly_Koran\\imposters\\محمد بدر السالم   حبيبتي بكماء .txt\n",
      "+ C:/Users/yadik/Desktop/final_code/data\\data_base_Holly_Koran\\imposters\\مي زيادة   ابتسامات ودموع أو الحب الألماني.txt\n",
      "+ C:/Users/yadik/Desktop/final_code/data\\data_base_Holly_Koran\\imposters\\نبيل فاروق   ادهم.txt\n",
      "+ C:/Users/yadik/Desktop/final_code/data\\data_base_Holly_Koran\\imposters\\نبيل فاروق   الأبطال .txt\n",
      "+ C:/Users/yadik/Desktop/final_code/data\\data_base_Holly_Koran\\imposters\\نبيل فاروق   الشمس الباردة .txt\n",
      "+ C:/Users/yadik/Desktop/final_code/data\\data_base_Holly_Koran\\imposters\\نبيل فاروق   جدي الحبيب.txt\n",
      "+ C:/Users/yadik/Desktop/final_code/data\\data_base_Holly_Koran\\imposters\\نقولا حداد   ادم الجديد.txt\n",
      "+ C:/Users/yadik/Desktop/final_code/data\\data_base_Holly_Koran\\imposters\\نقولا حداد   اسرار مصر.txt\n",
      "+ C:/Users/yadik/Desktop/final_code/data\\data_base_Holly_Koran\\imposters\\نقولا حداد   الحقيبة الزرقاء.txt\n",
      "+ C:/Users/yadik/Desktop/final_code/data\\data_base_Holly_Koran\\imposters\\هدى حسين   احلامي.txt\n",
      "+ C:/Users/yadik/Desktop/final_code/data\\data_base_Holly_Koran\\imposters\\هدى حسين   الجسر.txt\n",
      "+ C:/Users/yadik/Desktop/final_code/data\\data_base_Holly_Koran\\imposters\\وردة الصولي   الأوبة.txt\n"
     ]
    }
   ],
   "source": [
    "data_txts = []\n",
    "data_labels = []\n",
    "\n",
    "for root, ds, fs in os.walk(os.path.join(colab_path, data_base_name)):\n",
    "    for file in fs:\n",
    "        if root.split(\"\\\\\")[-1] != data_base_name:\n",
    "            print(\"+\", root, \" \", file)\n",
    "            label = root.split(\"\\\\\")[-1]\n",
    "            with open(os.path.join(root, file), 'r', encoding = \"utf-8\") as txtfile:\n",
    "                txt = txtfile.read()\n",
    "                data_txts.append(txt)\n",
    "                data_labels.append(label)        "
   ]
  },
  {
   "cell_type": "code",
   "execution_count": 85,
   "metadata": {},
   "outputs": [
    {
     "data": {
      "text/plain": [
       "array(['Holly Koran', 'أميرة علي عبد الصادق', 'احلام مستغانمي',\n",
       "       'تامر إبراهيم', 'جبران خليل جبران', 'جرجي زيدان',\n",
       "       'د. أحمد خالد توفيق', 'د. سليمان زيدان',\n",
       "       'رياض محمد إسليم الحلايقه', 'سلامة موسى', 'سيد قطـب',\n",
       "       'صلاح الدين ذهني', 'طه حسين', 'عبد الكريم ناصيف',\n",
       "       'عبدالسلام المودني', 'غانم خليل', 'فرح انطون', 'مارون عبود',\n",
       "       'محمد بدر السالم', 'مي زيادة', 'نبيل فاروق', 'نقولا حداد',\n",
       "       'هدى حسين', 'وردة الصولي'], dtype='<U24')"
      ]
     },
     "execution_count": 85,
     "metadata": {},
     "output_type": "execute_result"
    }
   ],
   "source": [
    "np.unique(data_labels)"
   ]
  },
  {
   "cell_type": "code",
   "execution_count": 86,
   "metadata": {},
   "outputs": [
    {
     "data": {
      "text/html": [
       "<div>\n",
       "<style scoped>\n",
       "    .dataframe tbody tr th:only-of-type {\n",
       "        vertical-align: middle;\n",
       "    }\n",
       "\n",
       "    .dataframe tbody tr th {\n",
       "        vertical-align: top;\n",
       "    }\n",
       "\n",
       "    .dataframe thead th {\n",
       "        text-align: right;\n",
       "    }\n",
       "</style>\n",
       "<table border=\"1\" class=\"dataframe\">\n",
       "  <thead>\n",
       "    <tr style=\"text-align: right;\">\n",
       "      <th></th>\n",
       "      <th>txt</th>\n",
       "      <th>label</th>\n",
       "    </tr>\n",
       "  </thead>\n",
       "  <tbody>\n",
       "    <tr>\n",
       "      <th>0</th>\n",
       "      <td>﻿سورة الفاتحة القرآن الكريم :\\nبِسْمِ اللَّهِ ...</td>\n",
       "      <td>Holly Koran</td>\n",
       "    </tr>\n",
       "    <tr>\n",
       "      <th>1</th>\n",
       "      <td>﻿أحدب نوتردام\\nترجمة\\n أميرة علي عبد الصادق \\n...</td>\n",
       "      <td>أميرة علي عبد الصادق</td>\n",
       "    </tr>\n",
       "    <tr>\n",
       "      <th>2</th>\n",
       "      <td>﻿الأخ الأصغر\\nالأخ الأصغر\\nترجمة\\n أميرة علي ع...</td>\n",
       "      <td>أميرة علي عبد الصادق</td>\n",
       "    </tr>\n",
       "    <tr>\n",
       "      <th>3</th>\n",
       "      <td>﻿\\n \\n \\n\\n  الأمير والفقير\\n\\n \\t تأليف\\n مار...</td>\n",
       "      <td>أميرة علي عبد الصادق</td>\n",
       "    </tr>\n",
       "    <tr>\n",
       "      <th>4</th>\n",
       "      <td>﻿الخروج دون حفظ\\nتأليف\\n روث نستفولد \\nترجمة\\n...</td>\n",
       "      <td>أميرة علي عبد الصادق</td>\n",
       "    </tr>\n",
       "    <tr>\n",
       "      <th>5</th>\n",
       "      <td>﻿\\nالأسود يليق بكِ\\nأحلام مستغانمي\\n\\n\\n\\n\\n\\n...</td>\n",
       "      <td>احلام مستغانمي</td>\n",
       "    </tr>\n",
       "    <tr>\n",
       "      <th>6</th>\n",
       "      <td>﻿نحن \\nقصة \\nتامر إبراهيم\\n\\n\\n\\n\\n\\n\\n (1)\\n\\...</td>\n",
       "      <td>تامر إبراهيم</td>\n",
       "    </tr>\n",
       "    <tr>\n",
       "      <th>7</th>\n",
       "      <td>﻿جبران خليل جبران\\nالأجنحة المتكسرة ـ 1 ـ توطئ...</td>\n",
       "      <td>جبران خليل جبران</td>\n",
       "    </tr>\n",
       "    <tr>\n",
       "      <th>8</th>\n",
       "      <td>﻿\\n \\n \\n\\n  الأرواح المتمردة\\n\\n \\t تأليف\\n ج...</td>\n",
       "      <td>جبران خليل جبران</td>\n",
       "    </tr>\n",
       "    <tr>\n",
       "      <th>9</th>\n",
       "      <td>﻿\\n \\n \\n\\n  \\n \\n\\n\\n\\n \\n\\n \\n \\n \\nأبو مسلم...</td>\n",
       "      <td>جرجي زيدان</td>\n",
       "    </tr>\n",
       "    <tr>\n",
       "      <th>10</th>\n",
       "      <td>﻿\\n\\n  أرمانوسة المصرية\\n\\n \\t تأليف\\n جُرجي ز...</td>\n",
       "      <td>جرجي زيدان</td>\n",
       "    </tr>\n",
       "    <tr>\n",
       "      <th>11</th>\n",
       "      <td>﻿ \\n\\n أسير المتمهدي\\n\\nجُرجي زيدان\\n\\n مقدمة\\...</td>\n",
       "      <td>جرجي زيدان</td>\n",
       "    </tr>\n",
       "    <tr>\n",
       "      <th>12</th>\n",
       "      <td>﻿ \\n\\n  الأمين والمأمون\\n\\n \\t تأليف\\n جُرجي ز...</td>\n",
       "      <td>جرجي زيدان</td>\n",
       "    </tr>\n",
       "    <tr>\n",
       "      <th>13</th>\n",
       "      <td>﻿\\nالانقلَابالعثماني\\nجُرجي زيدان\\n\\n\\n\\n\\nشير...</td>\n",
       "      <td>جرجي زيدان</td>\n",
       "    </tr>\n",
       "    <tr>\n",
       "      <th>14</th>\n",
       "      <td>﻿الشيء فى الصندوق \\nأحمد خالد توفيق\\n\\nعلى ضوء...</td>\n",
       "      <td>د. أحمد خالد توفيق</td>\n",
       "    </tr>\n",
       "    <tr>\n",
       "      <th>15</th>\n",
       "      <td>﻿\\n-أسطورة المقبرة ـ ‏\\n\\nما وراء الطبيعـــة ‏...</td>\n",
       "      <td>د. أحمد خالد توفيق</td>\n",
       "    </tr>\n",
       "    <tr>\n",
       "      <th>16</th>\n",
       "      <td>﻿\\n\\nروايات مصرية للجيب\\nمصاص الدماء\\n\\nالعدد ...</td>\n",
       "      <td>د. أحمد خالد توفيق</td>\n",
       "    </tr>\n",
       "    <tr>\n",
       "      <th>17</th>\n",
       "      <td>﻿رواية أوزار \\nد. سليمان زيدان\\n1\\n\\nسهام سالم...</td>\n",
       "      <td>د. سليمان زيدان</td>\n",
       "    </tr>\n",
       "    <tr>\n",
       "      <th>18</th>\n",
       "      <td>﻿\\n\\n\\n\\n\\n\\n\\n\\nأصدقائي الصغار\\n\\nرواية\\nرياض...</td>\n",
       "      <td>رياض محمد إسليم الحلايقه</td>\n",
       "    </tr>\n",
       "    <tr>\n",
       "      <th>19</th>\n",
       "      <td>﻿افتحوا لها الباب\\nسلامة موسى\\n\\n\\n\\n\\n\\nالفصل...</td>\n",
       "      <td>سلامة موسى</td>\n",
       "    </tr>\n",
       "    <tr>\n",
       "      <th>20</th>\n",
       "      <td>﻿عنوان الرواية : أشواك \\n\\nالمؤلف : سيد قطـب \\...</td>\n",
       "      <td>سيد قطـب</td>\n",
       "    </tr>\n",
       "    <tr>\n",
       "      <th>21</th>\n",
       "      <td>﻿أقوى من الحب\\nصلاح الدين ذهني\\n\\n\\n\\n\\n\\n\\n\\n...</td>\n",
       "      <td>صلاح الدين ذهني</td>\n",
       "    </tr>\n",
       "    <tr>\n",
       "      <th>22</th>\n",
       "      <td>﻿أحلام شهرزاد\\nتأليف\\n طه حسين \\n\\nأحلام شهرزا...</td>\n",
       "      <td>طه حسين</td>\n",
       "    </tr>\n",
       "    <tr>\n",
       "      <th>23</th>\n",
       "      <td>﻿\\n \\n \\n\\n  أديب\\n\\n \\t تأليف\\n طه حسين \\n\\n ...</td>\n",
       "      <td>طه حسين</td>\n",
       "    </tr>\n",
       "    <tr>\n",
       "      <th>24</th>\n",
       "      <td>﻿\\n  الأيام\\n\\n \\t تأليف\\n طه حسين \\n\\n \\n \\n\\...</td>\n",
       "      <td>طه حسين</td>\n",
       "    </tr>\n",
       "    <tr>\n",
       "      <th>25</th>\n",
       "      <td>﻿\\nالحب الضائع\\nطه حسين\\n\\n\\n\\n\\n\\nالحب الضائع...</td>\n",
       "      <td>طه حسين</td>\n",
       "    </tr>\n",
       "    <tr>\n",
       "      <th>26</th>\n",
       "      <td>﻿\\nدعاء الكروان\\nطه حسين\\n\\n\\n\\nإهداء \\n\\n إلى...</td>\n",
       "      <td>طه حسين</td>\n",
       "    </tr>\n",
       "    <tr>\n",
       "      <th>27</th>\n",
       "      <td>﻿   \\n   \\n   \\n   \\n   \\nأفراح ليلة القدر \\n ...</td>\n",
       "      <td>عبد الكريم ناصيف</td>\n",
       "    </tr>\n",
       "    <tr>\n",
       "      <th>28</th>\n",
       "      <td>﻿عبد الكريم ناصيف\\n    \\n    \\n    \\n    \\n   ...</td>\n",
       "      <td>عبد الكريم ناصيف</td>\n",
       "    </tr>\n",
       "    <tr>\n",
       "      <th>29</th>\n",
       "      <td>﻿أسفار الرجوع (رواية)\\nالشريط الأول\\nالوجه الأ...</td>\n",
       "      <td>عبدالسلام المودني</td>\n",
       "    </tr>\n",
       "    <tr>\n",
       "      <th>30</th>\n",
       "      <td>﻿رواية\\n\\n\\n\\n\\nلن تورق الكروم\\n\\n\\n\\n\\n      ...</td>\n",
       "      <td>غانم خليل</td>\n",
       "    </tr>\n",
       "    <tr>\n",
       "      <th>31</th>\n",
       "      <td>﻿أورشليم الجديدة\\nتأليف\\n فرح أنطون \\n\\nأورشلي...</td>\n",
       "      <td>فرح انطون</td>\n",
       "    </tr>\n",
       "    <tr>\n",
       "      <th>32</th>\n",
       "      <td>﻿\\n \\n \\n\\n  الوحش . الوحش . الوحش\\n\\n \\t تألي...</td>\n",
       "      <td>فرح انطون</td>\n",
       "    </tr>\n",
       "    <tr>\n",
       "      <th>33</th>\n",
       "      <td>﻿\\n  أحاديث القرية\\n\\n أقاصيص وذكريات\\n\\n \\t ت...</td>\n",
       "      <td>مارون عبود</td>\n",
       "    </tr>\n",
       "    <tr>\n",
       "      <th>34</th>\n",
       "      <td>﻿\\n\\n  الأمير الأحمر\\n\\n قصة لبنانية\\n\\n \\t تأ...</td>\n",
       "      <td>مارون عبود</td>\n",
       "    </tr>\n",
       "    <tr>\n",
       "      <th>35</th>\n",
       "      <td>﻿حبيبتي بكمـــاء\\nرواية\\nمحمد بدر السالم\\n\\n\\n...</td>\n",
       "      <td>محمد بدر السالم</td>\n",
       "    </tr>\n",
       "    <tr>\n",
       "      <th>36</th>\n",
       "      <td>﻿\\nابتسامات ودموع أو الحب الألماني\\n\\n\\n\\n\\n\\n...</td>\n",
       "      <td>مي زيادة</td>\n",
       "    </tr>\n",
       "    <tr>\n",
       "      <th>37</th>\n",
       "      <td>﻿أدهم \\nرواية لنبيل فاروق \\nمن سلسلة رجل المست...</td>\n",
       "      <td>نبيل فاروق</td>\n",
       "    </tr>\n",
       "    <tr>\n",
       "      <th>38</th>\n",
       "      <td>﻿الأبطال \\nتأليف د. نبيل فاروق \\n* \"عند الشدائ...</td>\n",
       "      <td>نبيل فاروق</td>\n",
       "    </tr>\n",
       "    <tr>\n",
       "      <th>39</th>\n",
       "      <td>﻿الشمس الباردة \\nسلسلة ملف المستقبل \\nد. نبيل ...</td>\n",
       "      <td>نبيل فاروق</td>\n",
       "    </tr>\n",
       "    <tr>\n",
       "      <th>40</th>\n",
       "      <td>﻿جدي الحبيب\\nقصة \\nد. نبيل فاروق\\n\\n\\n\\n\\n\\n(1...</td>\n",
       "      <td>نبيل فاروق</td>\n",
       "    </tr>\n",
       "    <tr>\n",
       "      <th>41</th>\n",
       "      <td>﻿\\n\\n\\n\\nآدم الجديد\\n\\nرواية اجتماعية عصرية\\n\\...</td>\n",
       "      <td>نقولا حداد</td>\n",
       "    </tr>\n",
       "    <tr>\n",
       "      <th>42</th>\n",
       "      <td>﻿\\nأسرار مصر\\nتأليف\\n نقولا حداد \\nعلل الهيئة ...</td>\n",
       "      <td>نقولا حداد</td>\n",
       "    </tr>\n",
       "    <tr>\n",
       "      <th>43</th>\n",
       "      <td>﻿\\n \\n \\n  الحقيبة الزرقاء\\n\\n رواية عصرية أدب...</td>\n",
       "      <td>نقولا حداد</td>\n",
       "    </tr>\n",
       "    <tr>\n",
       "      <th>44</th>\n",
       "      <td>﻿\\n\\n\\nأحلامي\\nهدى حسين\\n\\n\\n\\n\\n\\n\\n\\n\\n\\nأحل...</td>\n",
       "      <td>هدى حسين</td>\n",
       "    </tr>\n",
       "    <tr>\n",
       "      <th>45</th>\n",
       "      <td>﻿الجسر\\nرواية: هدى حسين\\n\\n\\nمقدمة:\\n\\n\\tفي ال...</td>\n",
       "      <td>هدى حسين</td>\n",
       "    </tr>\n",
       "    <tr>\n",
       "      <th>46</th>\n",
       "      <td>﻿الأوبة\\nوردة الصولي\\n\\n\\nهي عودة الروح أم عود...</td>\n",
       "      <td>وردة الصولي</td>\n",
       "    </tr>\n",
       "  </tbody>\n",
       "</table>\n",
       "</div>"
      ],
      "text/plain": [
       "                                                  txt  \\\n",
       "0   ﻿سورة الفاتحة القرآن الكريم :\\nبِسْمِ اللَّهِ ...   \n",
       "1   ﻿أحدب نوتردام\\nترجمة\\n أميرة علي عبد الصادق \\n...   \n",
       "2   ﻿الأخ الأصغر\\nالأخ الأصغر\\nترجمة\\n أميرة علي ع...   \n",
       "3   ﻿\\n \\n \\n\\n  الأمير والفقير\\n\\n \\t تأليف\\n مار...   \n",
       "4   ﻿الخروج دون حفظ\\nتأليف\\n روث نستفولد \\nترجمة\\n...   \n",
       "5   ﻿\\nالأسود يليق بكِ\\nأحلام مستغانمي\\n\\n\\n\\n\\n\\n...   \n",
       "6   ﻿نحن \\nقصة \\nتامر إبراهيم\\n\\n\\n\\n\\n\\n\\n (1)\\n\\...   \n",
       "7   ﻿جبران خليل جبران\\nالأجنحة المتكسرة ـ 1 ـ توطئ...   \n",
       "8   ﻿\\n \\n \\n\\n  الأرواح المتمردة\\n\\n \\t تأليف\\n ج...   \n",
       "9   ﻿\\n \\n \\n\\n  \\n \\n\\n\\n\\n \\n\\n \\n \\n \\nأبو مسلم...   \n",
       "10  ﻿\\n\\n  أرمانوسة المصرية\\n\\n \\t تأليف\\n جُرجي ز...   \n",
       "11  ﻿ \\n\\n أسير المتمهدي\\n\\nجُرجي زيدان\\n\\n مقدمة\\...   \n",
       "12  ﻿ \\n\\n  الأمين والمأمون\\n\\n \\t تأليف\\n جُرجي ز...   \n",
       "13  ﻿\\nالانقلَابالعثماني\\nجُرجي زيدان\\n\\n\\n\\n\\nشير...   \n",
       "14  ﻿الشيء فى الصندوق \\nأحمد خالد توفيق\\n\\nعلى ضوء...   \n",
       "15  ﻿\\n-أسطورة المقبرة ـ ‏\\n\\nما وراء الطبيعـــة ‏...   \n",
       "16  ﻿\\n\\nروايات مصرية للجيب\\nمصاص الدماء\\n\\nالعدد ...   \n",
       "17  ﻿رواية أوزار \\nد. سليمان زيدان\\n1\\n\\nسهام سالم...   \n",
       "18  ﻿\\n\\n\\n\\n\\n\\n\\n\\nأصدقائي الصغار\\n\\nرواية\\nرياض...   \n",
       "19  ﻿افتحوا لها الباب\\nسلامة موسى\\n\\n\\n\\n\\n\\nالفصل...   \n",
       "20  ﻿عنوان الرواية : أشواك \\n\\nالمؤلف : سيد قطـب \\...   \n",
       "21  ﻿أقوى من الحب\\nصلاح الدين ذهني\\n\\n\\n\\n\\n\\n\\n\\n...   \n",
       "22  ﻿أحلام شهرزاد\\nتأليف\\n طه حسين \\n\\nأحلام شهرزا...   \n",
       "23  ﻿\\n \\n \\n\\n  أديب\\n\\n \\t تأليف\\n طه حسين \\n\\n ...   \n",
       "24  ﻿\\n  الأيام\\n\\n \\t تأليف\\n طه حسين \\n\\n \\n \\n\\...   \n",
       "25  ﻿\\nالحب الضائع\\nطه حسين\\n\\n\\n\\n\\n\\nالحب الضائع...   \n",
       "26  ﻿\\nدعاء الكروان\\nطه حسين\\n\\n\\n\\nإهداء \\n\\n إلى...   \n",
       "27  ﻿   \\n   \\n   \\n   \\n   \\nأفراح ليلة القدر \\n ...   \n",
       "28  ﻿عبد الكريم ناصيف\\n    \\n    \\n    \\n    \\n   ...   \n",
       "29  ﻿أسفار الرجوع (رواية)\\nالشريط الأول\\nالوجه الأ...   \n",
       "30  ﻿رواية\\n\\n\\n\\n\\nلن تورق الكروم\\n\\n\\n\\n\\n      ...   \n",
       "31  ﻿أورشليم الجديدة\\nتأليف\\n فرح أنطون \\n\\nأورشلي...   \n",
       "32  ﻿\\n \\n \\n\\n  الوحش . الوحش . الوحش\\n\\n \\t تألي...   \n",
       "33  ﻿\\n  أحاديث القرية\\n\\n أقاصيص وذكريات\\n\\n \\t ت...   \n",
       "34  ﻿\\n\\n  الأمير الأحمر\\n\\n قصة لبنانية\\n\\n \\t تأ...   \n",
       "35  ﻿حبيبتي بكمـــاء\\nرواية\\nمحمد بدر السالم\\n\\n\\n...   \n",
       "36  ﻿\\nابتسامات ودموع أو الحب الألماني\\n\\n\\n\\n\\n\\n...   \n",
       "37  ﻿أدهم \\nرواية لنبيل فاروق \\nمن سلسلة رجل المست...   \n",
       "38  ﻿الأبطال \\nتأليف د. نبيل فاروق \\n* \"عند الشدائ...   \n",
       "39  ﻿الشمس الباردة \\nسلسلة ملف المستقبل \\nد. نبيل ...   \n",
       "40  ﻿جدي الحبيب\\nقصة \\nد. نبيل فاروق\\n\\n\\n\\n\\n\\n(1...   \n",
       "41  ﻿\\n\\n\\n\\nآدم الجديد\\n\\nرواية اجتماعية عصرية\\n\\...   \n",
       "42  ﻿\\nأسرار مصر\\nتأليف\\n نقولا حداد \\nعلل الهيئة ...   \n",
       "43  ﻿\\n \\n \\n  الحقيبة الزرقاء\\n\\n رواية عصرية أدب...   \n",
       "44  ﻿\\n\\n\\nأحلامي\\nهدى حسين\\n\\n\\n\\n\\n\\n\\n\\n\\n\\nأحل...   \n",
       "45  ﻿الجسر\\nرواية: هدى حسين\\n\\n\\nمقدمة:\\n\\n\\tفي ال...   \n",
       "46  ﻿الأوبة\\nوردة الصولي\\n\\n\\nهي عودة الروح أم عود...   \n",
       "\n",
       "                       label  \n",
       "0                Holly Koran  \n",
       "1       أميرة علي عبد الصادق  \n",
       "2       أميرة علي عبد الصادق  \n",
       "3       أميرة علي عبد الصادق  \n",
       "4       أميرة علي عبد الصادق  \n",
       "5             احلام مستغانمي  \n",
       "6               تامر إبراهيم  \n",
       "7           جبران خليل جبران  \n",
       "8           جبران خليل جبران  \n",
       "9                 جرجي زيدان  \n",
       "10                جرجي زيدان  \n",
       "11                جرجي زيدان  \n",
       "12                جرجي زيدان  \n",
       "13                جرجي زيدان  \n",
       "14        د. أحمد خالد توفيق  \n",
       "15        د. أحمد خالد توفيق  \n",
       "16        د. أحمد خالد توفيق  \n",
       "17           د. سليمان زيدان  \n",
       "18  رياض محمد إسليم الحلايقه  \n",
       "19                سلامة موسى  \n",
       "20                  سيد قطـب  \n",
       "21           صلاح الدين ذهني  \n",
       "22                   طه حسين  \n",
       "23                   طه حسين  \n",
       "24                   طه حسين  \n",
       "25                   طه حسين  \n",
       "26                   طه حسين  \n",
       "27          عبد الكريم ناصيف  \n",
       "28          عبد الكريم ناصيف  \n",
       "29         عبدالسلام المودني  \n",
       "30                 غانم خليل  \n",
       "31                 فرح انطون  \n",
       "32                 فرح انطون  \n",
       "33                مارون عبود  \n",
       "34                مارون عبود  \n",
       "35           محمد بدر السالم  \n",
       "36                  مي زيادة  \n",
       "37                نبيل فاروق  \n",
       "38                نبيل فاروق  \n",
       "39                نبيل فاروق  \n",
       "40                نبيل فاروق  \n",
       "41                نقولا حداد  \n",
       "42                نقولا حداد  \n",
       "43                نقولا حداد  \n",
       "44                  هدى حسين  \n",
       "45                  هدى حسين  \n",
       "46               وردة الصولي  "
      ]
     },
     "execution_count": 86,
     "metadata": {},
     "output_type": "execute_result"
    }
   ],
   "source": [
    "df = pd.DataFrame({\n",
    "                    \"txt\": data_txts,\n",
    "                    \"label\": data_labels\n",
    "                  })\n",
    "df"
   ]
  },
  {
   "cell_type": "markdown",
   "metadata": {},
   "source": [
    "## Process the data"
   ]
  },
  {
   "cell_type": "code",
   "execution_count": 87,
   "metadata": {},
   "outputs": [
    {
     "name": "stdout",
     "output_type": "stream",
     "text": [
      "Requirement already satisfied: arabert in c:\\users\\yadik\\anaconda3\\lib\\site-packages (1.0.1)\n",
      "Requirement already satisfied: PyArabic in c:\\users\\yadik\\anaconda3\\lib\\site-packages (from arabert) (0.6.15)\n",
      "Requirement already satisfied: farasapy in c:\\users\\yadik\\anaconda3\\lib\\site-packages (from arabert) (0.0.14)\n",
      "Requirement already satisfied: emoji==1.4.2 in c:\\users\\yadik\\anaconda3\\lib\\site-packages (from arabert) (1.4.2)\n",
      "Requirement already satisfied: tqdm in c:\\users\\yadik\\anaconda3\\lib\\site-packages (from farasapy->arabert) (4.62.3)\n",
      "Requirement already satisfied: requests in c:\\users\\yadik\\appdata\\roaming\\python\\python39\\site-packages (from farasapy->arabert) (2.28.1)\n",
      "Requirement already satisfied: six>=1.14.0 in c:\\users\\yadik\\anaconda3\\lib\\site-packages (from PyArabic->arabert) (1.16.0)\n",
      "Requirement already satisfied: urllib3<1.27,>=1.21.1 in c:\\users\\yadik\\appdata\\roaming\\python\\python39\\site-packages (from requests->farasapy->arabert) (1.26.13)\n",
      "Requirement already satisfied: charset-normalizer<3,>=2 in c:\\users\\yadik\\anaconda3\\lib\\site-packages (from requests->farasapy->arabert) (2.0.4)\n",
      "Requirement already satisfied: idna<4,>=2.5 in c:\\users\\yadik\\anaconda3\\lib\\site-packages (from requests->farasapy->arabert) (3.2)\n",
      "Requirement already satisfied: certifi>=2017.4.17 in c:\\users\\yadik\\anaconda3\\lib\\site-packages (from requests->farasapy->arabert) (2021.10.8)\n",
      "Requirement already satisfied: colorama in c:\\users\\yadik\\anaconda3\\lib\\site-packages (from tqdm->farasapy->arabert) (0.4.4)\n",
      "Note: you may need to restart the kernel to use updated packages.\n"
     ]
    }
   ],
   "source": [
    "pip install arabert"
   ]
  },
  {
   "cell_type": "code",
   "execution_count": 88,
   "metadata": {
    "scrolled": true
   },
   "outputs": [
    {
     "name": "stderr",
     "output_type": "stream",
     "text": [
      "[nltk_data] Downloading package stopwords to\n",
      "[nltk_data]     C:\\Users\\yadik\\AppData\\Roaming\\nltk_data...\n",
      "[nltk_data]   Package stopwords is already up-to-date!\n"
     ]
    }
   ],
   "source": [
    "import nltk\n",
    "from nltk.tokenize import word_tokenize\n",
    "from nltk.corpus import stopwords\n",
    "nltk.download(\"stopwords\")\n",
    "import string\n",
    "import numpy as np\n",
    "from arabert.preprocess import ArabertPreprocessor\n",
    "from transformers import AutoTokenizer\n",
    "from sklearn.preprocessing import LabelEncoder\n",
    "\n",
    "model_name = \"aubmindlab/bert-large-arabertv02\"\n",
    "arabert_prep = ArabertPreprocessor(model_name = model_name)"
   ]
  },
  {
   "cell_type": "code",
   "execution_count": 89,
   "metadata": {},
   "outputs": [],
   "source": [
    "emb_dim = 300\n",
    "chunk_size = 10"
   ]
  },
  {
   "cell_type": "code",
   "execution_count": 90,
   "metadata": {},
   "outputs": [],
   "source": [
    "def preprocessing_stage(text):\n",
    "    try:\n",
    "        text = arabert_prep.preprocess(text)\n",
    "        # Split into words\n",
    "        tokens = word_tokenize(text)\n",
    "        # Convert to lowercase\n",
    "        tokens = [w.lower() for w in tokens]\n",
    "        # Remove punctuation from each word\n",
    "        arabic_punctuation = '،؟؛'\n",
    "        all_punctuation = string.punctuation + arabic_punctuation\n",
    "        table = str.maketrans('', '', all_punctuation) \n",
    "        stripped = [w.translate(table) for w in tokens]\n",
    "        # Remove remaining tokens that are not alphabetic\n",
    "        words = [word for word in stripped if word.isalnum()]\n",
    "        # Filter out stop words\n",
    "        stop_words = set(stopwords.words('arabic'))\n",
    "        words = [w for w in words if not w in stop_words]\n",
    "        # Elemintate the Nan Values\n",
    "        words = [x for x in words if str(x) != 'nan']\n",
    "        words = \" \".join(words)\n",
    "        return words\n",
    "    except Exception as e:\n",
    "        print(\"ERROR in preprocessing_stage: \" + e.args[0])\n",
    "        return None"
   ]
  },
  {
   "cell_type": "markdown",
   "metadata": {},
   "source": [
    "### arabBert_algorithm"
   ]
  },
  {
   "cell_type": "code",
   "execution_count": 91,
   "metadata": {},
   "outputs": [],
   "source": [
    "from transformers import AutoTokenizer, AutoModel, pipeline, BertForSequenceClassification\n",
    "import torch\n",
    "\n",
    "tokenizer = AutoTokenizer.from_pretrained(\"asafaya/bert-base-arabic\")\n",
    "def arabBert_algorithm(txt, tokenizer, dimension):\n",
    "    try:\n",
    "        wv = tokenizer(txt, return_tensors = 'np', max_length = dimension, truncation = True, padding = True)\n",
    "        return wv[\"input_ids\"]\n",
    "    except Exception as e:\n",
    "        print(\"ERROR in arabBert_algorithm:\" + e.args[0])"
   ]
  },
  {
   "cell_type": "code",
   "execution_count": 92,
   "metadata": {},
   "outputs": [],
   "source": [
    "preprocessed_phrases = []\n",
    "labels = []\n",
    "wv_phrases = []\n",
    "\n",
    "for txt,label in zip(df.txt,df.label):\n",
    "    phrases = txt.split(\"\\n\")\n",
    "    phrases = [x for x in phrases if str(x) != '']\n",
    "    for phrase in phrases:\n",
    "        processed_text = preprocessing_stage(phrase)\n",
    "        if processed_text != '':\n",
    "            # print(\"+\", phrase, \"--\", processed_text)\n",
    "            preprocessed_phrases.append(processed_text)\n",
    "            wv = arabBert_algorithm(preprocessed_phrases[-1], tokenizer, emb_dim)\n",
    "            wv = np.pad(wv.reshape(-1), (0, emb_dim), 'constant')\n",
    "            wv_phrases.append(wv[:emb_dim])\n",
    "            labels.append(label)"
   ]
  },
  {
   "cell_type": "code",
   "execution_count": 93,
   "metadata": {},
   "outputs": [
    {
     "name": "stdout",
     "output_type": "stream",
     "text": [
      "51645\n",
      "51645\n",
      "51645\n"
     ]
    }
   ],
   "source": [
    "print(len(labels))\n",
    "print(len(preprocessed_phrases))\n",
    "print(len(wv_phrases))"
   ]
  },
  {
   "cell_type": "code",
   "execution_count": 94,
   "metadata": {},
   "outputs": [
    {
     "data": {
      "text/html": [
       "<div>\n",
       "<style scoped>\n",
       "    .dataframe tbody tr th:only-of-type {\n",
       "        vertical-align: middle;\n",
       "    }\n",
       "\n",
       "    .dataframe tbody tr th {\n",
       "        vertical-align: top;\n",
       "    }\n",
       "\n",
       "    .dataframe thead th {\n",
       "        text-align: right;\n",
       "    }\n",
       "</style>\n",
       "<table border=\"1\" class=\"dataframe\">\n",
       "  <thead>\n",
       "    <tr style=\"text-align: right;\">\n",
       "      <th></th>\n",
       "      <th>txt</th>\n",
       "      <th>wv</th>\n",
       "      <th>label</th>\n",
       "    </tr>\n",
       "  </thead>\n",
       "  <tbody>\n",
       "    <tr>\n",
       "      <th>0</th>\n",
       "      <td>سورة الفاتحة القرآن الكريم</td>\n",
       "      <td>[2, 4515, 15098, 2930, 3003, 3, 0, 0, 0, 0, 0,...</td>\n",
       "      <td>Holly Koran</td>\n",
       "    </tr>\n",
       "    <tr>\n",
       "      <th>1</th>\n",
       "      <td>بسم الله الرحمن الرحيم 1</td>\n",
       "      <td>[2, 7994, 1808, 3727, 7108, 21, 3, 0, 0, 0, 0,...</td>\n",
       "      <td>Holly Koran</td>\n",
       "    </tr>\n",
       "    <tr>\n",
       "      <th>2</th>\n",
       "      <td>الحمد لله رب العالمين 2 الرحمن الرحيم 3 مالك ي...</td>\n",
       "      <td>[2, 6396, 3519, 2963, 9277, 22, 3727, 7108, 23...</td>\n",
       "      <td>Holly Koran</td>\n",
       "    </tr>\n",
       "    <tr>\n",
       "      <th>3</th>\n",
       "      <td>سورة البقرة</td>\n",
       "      <td>[2, 4515, 7503, 3, 0, 0, 0, 0, 0, 0, 0, 0, 0, ...</td>\n",
       "      <td>Holly Koran</td>\n",
       "    </tr>\n",
       "    <tr>\n",
       "      <th>4</th>\n",
       "      <td>بسم الله الرحمن الرحيم</td>\n",
       "      <td>[2, 7994, 1808, 3727, 7108, 3, 0, 0, 0, 0, 0, ...</td>\n",
       "      <td>Holly Koran</td>\n",
       "    </tr>\n",
       "    <tr>\n",
       "      <th>...</th>\n",
       "      <td>...</td>\n",
       "      <td>...</td>\n",
       "      <td>...</td>\n",
       "    </tr>\n",
       "    <tr>\n",
       "      <th>51640</th>\n",
       "      <td>ليلة أطول شهر شعرت كعادتي بضيقة شديدة ففررت لر...</td>\n",
       "      <td>[2, 5613, 13225, 2857, 17412, 30258, 2078, 663...</td>\n",
       "      <td>وردة الصولي</td>\n",
       "    </tr>\n",
       "    <tr>\n",
       "      <th>51641</th>\n",
       "      <td>رأيت إبليس بقرنيه الطويلين ورأسه الحليق يضحك و...</td>\n",
       "      <td>[2, 6719, 17869, 2331, 1918, 1798, 10507, 1724...</td>\n",
       "      <td>وردة الصولي</td>\n",
       "    </tr>\n",
       "    <tr>\n",
       "      <th>51642</th>\n",
       "      <td>تصاعد الألم شبر جسدي وصل ذروته بدأت أفقد الإحس...</td>\n",
       "      <td>[2, 20030, 4042, 29905, 11394, 1016, 3685, 164...</td>\n",
       "      <td>وردة الصولي</td>\n",
       "    </tr>\n",
       "    <tr>\n",
       "      <th>51643</th>\n",
       "      <td>صعدت روحي حلوة خفيفة اغتسلت نهر زكي العلياء فا...</td>\n",
       "      <td>[2, 22954, 1013, 21610, 20181, 13698, 11401, 1...</td>\n",
       "      <td>وردة الصولي</td>\n",
       "    </tr>\n",
       "    <tr>\n",
       "      <th>51644</th>\n",
       "      <td>15</td>\n",
       "      <td>[2, 2635, 3, 0, 0, 0, 0, 0, 0, 0, 0, 0, 0, 0, ...</td>\n",
       "      <td>وردة الصولي</td>\n",
       "    </tr>\n",
       "  </tbody>\n",
       "</table>\n",
       "<p>51645 rows × 3 columns</p>\n",
       "</div>"
      ],
      "text/plain": [
       "                                                     txt  \\\n",
       "0                             سورة الفاتحة القرآن الكريم   \n",
       "1                               بسم الله الرحمن الرحيم 1   \n",
       "2      الحمد لله رب العالمين 2 الرحمن الرحيم 3 مالك ي...   \n",
       "3                                            سورة البقرة   \n",
       "4                                 بسم الله الرحمن الرحيم   \n",
       "...                                                  ...   \n",
       "51640  ليلة أطول شهر شعرت كعادتي بضيقة شديدة ففررت لر...   \n",
       "51641  رأيت إبليس بقرنيه الطويلين ورأسه الحليق يضحك و...   \n",
       "51642  تصاعد الألم شبر جسدي وصل ذروته بدأت أفقد الإحس...   \n",
       "51643  صعدت روحي حلوة خفيفة اغتسلت نهر زكي العلياء فا...   \n",
       "51644                                                 15   \n",
       "\n",
       "                                                      wv        label  \n",
       "0      [2, 4515, 15098, 2930, 3003, 3, 0, 0, 0, 0, 0,...  Holly Koran  \n",
       "1      [2, 7994, 1808, 3727, 7108, 21, 3, 0, 0, 0, 0,...  Holly Koran  \n",
       "2      [2, 6396, 3519, 2963, 9277, 22, 3727, 7108, 23...  Holly Koran  \n",
       "3      [2, 4515, 7503, 3, 0, 0, 0, 0, 0, 0, 0, 0, 0, ...  Holly Koran  \n",
       "4      [2, 7994, 1808, 3727, 7108, 3, 0, 0, 0, 0, 0, ...  Holly Koran  \n",
       "...                                                  ...          ...  \n",
       "51640  [2, 5613, 13225, 2857, 17412, 30258, 2078, 663...  وردة الصولي  \n",
       "51641  [2, 6719, 17869, 2331, 1918, 1798, 10507, 1724...  وردة الصولي  \n",
       "51642  [2, 20030, 4042, 29905, 11394, 1016, 3685, 164...  وردة الصولي  \n",
       "51643  [2, 22954, 1013, 21610, 20181, 13698, 11401, 1...  وردة الصولي  \n",
       "51644  [2, 2635, 3, 0, 0, 0, 0, 0, 0, 0, 0, 0, 0, 0, ...  وردة الصولي  \n",
       "\n",
       "[51645 rows x 3 columns]"
      ]
     },
     "execution_count": 94,
     "metadata": {},
     "output_type": "execute_result"
    }
   ],
   "source": [
    "df_wv = pd.DataFrame({\n",
    "                        \"txt\": preprocessed_phrases,\n",
    "                        \"wv\": wv_phrases,\n",
    "                        \"label\": labels\n",
    "                     })\n",
    "df_wv"
   ]
  },
  {
   "cell_type": "markdown",
   "metadata": {},
   "source": [
    "### Data Balacing (Palce the Classes)"
   ]
  },
  {
   "cell_type": "code",
   "execution_count": 95,
   "metadata": {},
   "outputs": [
    {
     "name": "stdout",
     "output_type": "stream",
     "text": [
      "The total before balacing is: 51645\n",
      "Holly Koran 679\n",
      "others 50966\n"
     ]
    }
   ],
   "source": [
    "# Balcing The data\n",
    "print(\"The total before balacing is:\", len(df_wv))\n",
    "print(\"Holly Koran\", len(df_wv[df_wv.label == \"Holly Koran\"]))\n",
    "print(\"others\", len(df_wv[df_wv.label != \"Holly Koran\"]))"
   ]
  },
  {
   "cell_type": "code",
   "execution_count": 96,
   "metadata": {},
   "outputs": [
    {
     "name": "stdout",
     "output_type": "stream",
     "text": [
      "Labels: ['احلام مستغانمي' 'غانم خليل' 'نقولا حداد' 'أميرة علي عبد الصادق'\n",
      " 'عبدالسلام المودني' 'نبيل فاروق' 'جرجي زيدان' 'طه حسين' 'فرح انطون'\n",
      " 'هدى حسين' 'عبد الكريم ناصيف' 'مي زيادة' 'د. أحمد خالد توفيق'\n",
      " 'صلاح الدين ذهني' 'محمد بدر السالم' 'وردة الصولي'\n",
      " 'رياض محمد إسليم الحلايقه' 'د. سليمان زيدان' 'مارون عبود' 'سيد قطـب'\n",
      " 'جبران خليل جبران' 'سلامة موسى' 'تامر إبراهيم' 'Holly Koran']\n"
     ]
    },
    {
     "data": {
      "text/html": [
       "<div>\n",
       "<style scoped>\n",
       "    .dataframe tbody tr th:only-of-type {\n",
       "        vertical-align: middle;\n",
       "    }\n",
       "\n",
       "    .dataframe tbody tr th {\n",
       "        vertical-align: top;\n",
       "    }\n",
       "\n",
       "    .dataframe thead th {\n",
       "        text-align: right;\n",
       "    }\n",
       "</style>\n",
       "<table border=\"1\" class=\"dataframe\">\n",
       "  <thead>\n",
       "    <tr style=\"text-align: right;\">\n",
       "      <th></th>\n",
       "      <th>txt</th>\n",
       "      <th>wv</th>\n",
       "      <th>label</th>\n",
       "    </tr>\n",
       "  </thead>\n",
       "  <tbody>\n",
       "    <tr>\n",
       "      <th>7188</th>\n",
       "      <td>عهدتك بخيلة نفسك اكتسبت عادة الهدر</td>\n",
       "      <td>[2, 5609, 2951, 3268, 2294, 6558, 18425, 1013,...</td>\n",
       "      <td>احلام مستغانمي</td>\n",
       "    </tr>\n",
       "    <tr>\n",
       "      <th>32979</th>\n",
       "      <td>وماذا قصدك</td>\n",
       "      <td>[2, 17842, 9476, 1014, 3, 0, 0, 0, 0, 0, 0, 0,...</td>\n",
       "      <td>غانم خليل</td>\n",
       "    </tr>\n",
       "    <tr>\n",
       "      <th>47564</th>\n",
       "      <td>وهم الكاهن يقف فغمز جورجي فهيما كأنه يقول تدعه...</td>\n",
       "      <td>[2, 4139, 19000, 3252, 9234, 18855, 1010, 1043...</td>\n",
       "      <td>نقولا حداد</td>\n",
       "    </tr>\n",
       "    <tr>\n",
       "      <th>3414</th>\n",
       "      <td>النشيج صحب حديثي بدل صوتي بصوت آخر فبدا كصوت ح...</td>\n",
       "      <td>[2, 11242, 2412, 2678, 1019, 2883, 1016, 8710,...</td>\n",
       "      <td>أميرة علي عبد الصادق</td>\n",
       "    </tr>\n",
       "    <tr>\n",
       "      <th>2754</th>\n",
       "      <td>جانب سور ساحات السيارات طبعت عبارة تثق أكبر 25...</td>\n",
       "      <td>[2, 3884, 14531, 22092, 3686, 9420, 1013, 5453...</td>\n",
       "      <td>أميرة علي عبد الصادق</td>\n",
       "    </tr>\n",
       "  </tbody>\n",
       "</table>\n",
       "</div>"
      ],
      "text/plain": [
       "                                                     txt  \\\n",
       "7188                  عهدتك بخيلة نفسك اكتسبت عادة الهدر   \n",
       "32979                                         وماذا قصدك   \n",
       "47564  وهم الكاهن يقف فغمز جورجي فهيما كأنه يقول تدعه...   \n",
       "3414   النشيج صحب حديثي بدل صوتي بصوت آخر فبدا كصوت ح...   \n",
       "2754   جانب سور ساحات السيارات طبعت عبارة تثق أكبر 25...   \n",
       "\n",
       "                                                      wv                 label  \n",
       "7188   [2, 5609, 2951, 3268, 2294, 6558, 18425, 1013,...        احلام مستغانمي  \n",
       "32979  [2, 17842, 9476, 1014, 3, 0, 0, 0, 0, 0, 0, 0,...             غانم خليل  \n",
       "47564  [2, 4139, 19000, 3252, 9234, 18855, 1010, 1043...            نقولا حداد  \n",
       "3414   [2, 11242, 2412, 2678, 1019, 2883, 1016, 8710,...  أميرة علي عبد الصادق  \n",
       "2754   [2, 3884, 14531, 22092, 3686, 9420, 1013, 5453...  أميرة علي عبد الصادق  "
      ]
     },
     "execution_count": 96,
     "metadata": {},
     "output_type": "execute_result"
    }
   ],
   "source": [
    "new_df = df_wv[df_wv.label != \"Holly Koran\"].sample(\n",
    "                                                    n = min( \n",
    "                                                             len(df_wv[df_wv.label == \"Holly Koran\"]), \n",
    "                                                             len(df_wv[df_wv.label != \"Holly Koran\"])\n",
    "                                                           )).append(df_wv[df_wv.label == \"Holly Koran\"].sample(\n",
    "                                                                    n = min( \n",
    "                                                                             len(df_wv[df_wv.label ==\"Holly Koran\"]), \n",
    "                                                                             len(df_wv[df_wv.label !=\"Holly Koran\"]))).copy()\n",
    "                                                                    )\n",
    "print(\"Labels:\", new_df.label.unique())\n",
    "new_df.head()"
   ]
  },
  {
   "cell_type": "code",
   "execution_count": 97,
   "metadata": {},
   "outputs": [
    {
     "data": {
      "text/plain": [
       "array([0, 1], dtype=object)"
      ]
     },
     "execution_count": 97,
     "metadata": {},
     "output_type": "execute_result"
    }
   ],
   "source": [
    "# Label encoding \n",
    "new_df.loc[new_df.label != \"Holly Koran\", \"label\"] = 0\n",
    "new_df.loc[new_df.label == \"Holly Koran\", \"label\"] = 1\n",
    "new_df.label.unique()"
   ]
  },
  {
   "cell_type": "code",
   "execution_count": 98,
   "metadata": {},
   "outputs": [
    {
     "name": "stdout",
     "output_type": "stream",
     "text": [
      "The total After balacing: 1358\n",
      "Holly Koran 679\n",
      "Others 679\n"
     ]
    }
   ],
   "source": [
    "# Balcing The data\n",
    "print(\"The total After balacing:\", len(new_df))\n",
    "print(\"Holly Koran\", len(new_df[new_df.label == 1 ]))\n",
    "print(\"Others\", len(new_df[new_df.label != 0]))"
   ]
  },
  {
   "cell_type": "code",
   "execution_count": 99,
   "metadata": {},
   "outputs": [
    {
     "name": "stdout",
     "output_type": "stream",
     "text": [
      "The data_batch_size is: 5\n",
      "The number of Blocks is: 271\n"
     ]
    }
   ],
   "source": [
    "batch_factor = 2\n",
    "data_batch_size = chunk_size // batch_factor\n",
    "print(f\"The data_batch_size is: {data_batch_size}\")\n",
    "\n",
    "# Create X, Y\n",
    "list_wv_txt = []\n",
    "Y_tmp0 = []\n",
    "for token, _label in zip(new_df.wv, new_df.label):\n",
    "    list_wv_txt.append(token.reshape(-1).tolist())\n",
    "    Y_tmp0.append(_label)\n",
    "    \n",
    "list_wv_txt = np.asarray(list_wv_txt)\n",
    "bloks = len(list_wv_txt) // data_batch_size\n",
    "print(f\"The number of Blocks is: {bloks}\")\n",
    "\n",
    "X_1 = []\n",
    "Y_tmp1 = []\n",
    "for kk in range(bloks):\n",
    "    X_1.append(list_wv_txt[kk * data_batch_size: (kk + 1) * data_batch_size])\n",
    "    Y_tmp1.append(Y_tmp0[kk * data_batch_size: (kk + 1) * data_batch_size])"
   ]
  },
  {
   "cell_type": "code",
   "execution_count": 100,
   "metadata": {},
   "outputs": [],
   "source": [
    "Xs = []\n",
    "Y_tmp2 = []\n",
    "indices = [i for i, y in enumerate(Y_tmp1) if len(np.unique(y)) > 1]\n",
    "for ii in range(len(X_1)):\n",
    "    if ii not in indices:\n",
    "        Xs.append(X_1[ii])\n",
    "        Y_tmp2.append(Y_tmp1[ii])\n",
    "Xs = np.asarray(Xs)"
   ]
  },
  {
   "cell_type": "markdown",
   "metadata": {},
   "source": [
    "### One Hot encoding"
   ]
  },
  {
   "cell_type": "code",
   "execution_count": 101,
   "metadata": {},
   "outputs": [],
   "source": [
    "# One Hot encoding the labels: \n",
    "# 0 (Impostors) ------> [0, 1],\n",
    "# 1 (Holly Koran) ------> [1, 0]\n",
    "Y = []\n",
    "for y in Y_tmp2:\n",
    "    if max(y) == 1:\n",
    "        Y.append([1, 0])\n",
    "    else:\n",
    "        Y.append([0, 1])        "
   ]
  },
  {
   "cell_type": "markdown",
   "metadata": {},
   "source": [
    "## Data Spliting"
   ]
  },
  {
   "cell_type": "code",
   "execution_count": 102,
   "metadata": {},
   "outputs": [
    {
     "name": "stdout",
     "output_type": "stream",
     "text": [
      "Train:\n",
      "y_train (216, 2)\n",
      "x_train (216, 5, 300)\n",
      "Test:\n",
      "y_test (54, 2)\n",
      "x_test (54, 5, 300)\n",
      "Duplicated Train:\n",
      "x_train (432, 5, 300)\n",
      "y_train (432, 2)\n"
     ]
    }
   ],
   "source": [
    "test_size = 0.2\n",
    "y_test = []\n",
    "x_test = []\n",
    "y_train = []\n",
    "x_train = []\n",
    "\n",
    "test_indexs = random.sample(list(range(len(Y))), k = int(len(Y) * test_size))\n",
    "for i in range(len(Y)):\n",
    "    if i in test_indexs:\n",
    "        y_test.append(Y[i])\n",
    "        x_test.append(Xs[i])\n",
    "    else:\n",
    "        y_train.append(Y[i])\n",
    "        x_train.append(Xs[i])\n",
    "        \n",
    "y_test  = np.array(y_test)\n",
    "x_test  = np.array(x_test)\n",
    "y_train = np.array(y_train)\n",
    "x_train = np.array(x_train)\n",
    "print(\"Train:\")\n",
    "print(\"y_train\", y_train.shape)\n",
    "print(\"x_train\", x_train.shape)\n",
    "print(\"Test:\")\n",
    "print(\"y_test\", y_test.shape)\n",
    "print(\"x_test\", x_test.shape)\n",
    "\n",
    "x_train_duplicated = np.concatenate((x_train, x_train))\n",
    "y_train_duplicated = np.concatenate((y_train, y_train))\n",
    "print(\"Duplicated Train:\")\n",
    "print(\"x_train\", x_train_duplicated.shape)\n",
    "print(\"y_train\", y_train_duplicated.shape)\n",
    "\n",
    "\n",
    "\n",
    "x_train_duplicated = np.concatenate((x_train_duplicated, x_train_duplicated))\n",
    "y_train_duplicated = np.concatenate((y_train_duplicated, y_train_duplicated))\n",
    "\n"
   ]
  },
  {
   "cell_type": "markdown",
   "metadata": {},
   "source": [
    "## Create the model"
   ]
  },
  {
   "cell_type": "code",
   "execution_count": 103,
   "metadata": {},
   "outputs": [],
   "source": [
    "import numpy as np\n",
    "import keras\n",
    "from keras import Sequential, regularizers, backend as K\n",
    "from keras.layers import Flatten, Dense, Dropout, BatchNormalization, LeakyReLU, Layer\n",
    "from keras.layers.convolutional import MaxPooling1D, Conv1D\n",
    "from keras.callbacks import EarlyStopping\n",
    "import tensorflow as tf\n",
    "import gc\n",
    "import matplotlib.pyplot as plt\n",
    "\n",
    "global model, word_model\n",
    "\n",
    "def cnn(X, Y):\n",
    "    num_classes = 2\n",
    "\n",
    "    print('Data:')\n",
    "    print(\"X data\", X.shape)\n",
    "    print(\"Y data\", Y.shape)\n",
    "    \n",
    "    X_train, Y_train = X, Y\n",
    "    # Creating the model\n",
    "    model = Sequential()\n",
    "    model.add(Conv1D(filters = 1000, kernel_size = 2, padding = 'valid', activation = 'relu', input_shape = (data_batch_size, emb_dim)))\n",
    "    model.add(MaxPooling1D(pool_size = 1))\n",
    "    model.add(Dropout(0.5))\n",
    "    model.add(Conv1D(filters = 1000, kernel_size = 2, padding = 'valid', activation = 'relu', input_shape = (data_batch_size, emb_dim)))\n",
    "    model.add(MaxPooling1D(pool_size = 1))\n",
    "    model.add(Dropout(0.5))\n",
    "    model.add(Conv1D(filters = 1000, kernel_size = 2, padding = 'valid', activation = 'relu', input_shape = (data_batch_size, emb_dim)))\n",
    "    model.add(MaxPooling1D(pool_size = 1))\n",
    "    model.add(Dropout(0.5))  \n",
    "    model.add(Flatten())\n",
    "    model.add(Dropout(0.5))\n",
    "    model.add(Dense(1024 * 2, activation = 'relu'))\n",
    "    model.add(Dense(1024, activation = 'relu'))\n",
    "    model.add(Dense(512, activation = 'relu'))\n",
    "    model.add(Dense(256, activation = 'relu'))\n",
    "    model.add(Dense(128, activation = 'relu'))\n",
    "    model.add(Dense(64, activation = 'relu'))\n",
    "    model.add(Dense(32, activation = 'relu'))\n",
    "    model.add(Dense(2, activation = 'softmax'))\n",
    "    model.summary()\n",
    "    model.compile(loss = 'binary_crossentropy', optimizer = 'adam', metrics = ['accuracy'])\n",
    "\n",
    "    print('Fit model...')\n",
    "\n",
    "    history = model.fit(x_train_duplicated, y_train_duplicated, validation_split = test_size, epochs = 8, verbose = 1)\n",
    "    del X, Y\n",
    "\n",
    "    gc.collect()\n",
    "\n",
    "    return model, history"
   ]
  },
  {
   "cell_type": "code",
   "execution_count": 104,
   "metadata": {},
   "outputs": [
    {
     "name": "stdout",
     "output_type": "stream",
     "text": [
      "Data:\n",
      "X data (864, 5, 300)\n",
      "Y data (864, 2)\n",
      "Model: \"sequential_3\"\n",
      "_________________________________________________________________\n",
      " Layer (type)                Output Shape              Param #   \n",
      "=================================================================\n",
      " conv1d_9 (Conv1D)           (None, 4, 1000)           601000    \n",
      "                                                                 \n",
      " max_pooling1d_9 (MaxPooling  (None, 4, 1000)          0         \n",
      " 1D)                                                             \n",
      "                                                                 \n",
      " dropout_12 (Dropout)        (None, 4, 1000)           0         \n",
      "                                                                 \n",
      " conv1d_10 (Conv1D)          (None, 3, 1000)           2001000   \n",
      "                                                                 \n",
      " max_pooling1d_10 (MaxPoolin  (None, 3, 1000)          0         \n",
      " g1D)                                                            \n",
      "                                                                 \n",
      " dropout_13 (Dropout)        (None, 3, 1000)           0         \n",
      "                                                                 \n",
      " conv1d_11 (Conv1D)          (None, 2, 1000)           2001000   \n",
      "                                                                 \n",
      " max_pooling1d_11 (MaxPoolin  (None, 2, 1000)          0         \n",
      " g1D)                                                            \n",
      "                                                                 \n",
      " dropout_14 (Dropout)        (None, 2, 1000)           0         \n",
      "                                                                 \n",
      " flatten_3 (Flatten)         (None, 2000)              0         \n",
      "                                                                 \n",
      " dropout_15 (Dropout)        (None, 2000)              0         \n",
      "                                                                 \n",
      " dense_24 (Dense)            (None, 2048)              4098048   \n",
      "                                                                 \n",
      " dense_25 (Dense)            (None, 1024)              2098176   \n",
      "                                                                 \n",
      " dense_26 (Dense)            (None, 512)               524800    \n",
      "                                                                 \n",
      " dense_27 (Dense)            (None, 256)               131328    \n",
      "                                                                 \n",
      " dense_28 (Dense)            (None, 128)               32896     \n",
      "                                                                 \n",
      " dense_29 (Dense)            (None, 64)                8256      \n",
      "                                                                 \n",
      " dense_30 (Dense)            (None, 32)                2080      \n",
      "                                                                 \n",
      " dense_31 (Dense)            (None, 2)                 66        \n",
      "                                                                 \n",
      "=================================================================\n",
      "Total params: 11,498,650\n",
      "Trainable params: 11,498,650\n",
      "Non-trainable params: 0\n",
      "_________________________________________________________________\n",
      "Fit model...\n",
      "Epoch 1/8\n",
      "22/22 [==============================] - 9s 310ms/step - loss: 383.5235 - accuracy: 0.5036 - val_loss: 3.1507 - val_accuracy: 0.7457\n",
      "Epoch 2/8\n",
      "22/22 [==============================] - 7s 305ms/step - loss: 13.7404 - accuracy: 0.6194 - val_loss: 0.9950 - val_accuracy: 0.8266\n",
      "Epoch 3/8\n",
      "22/22 [==============================] - 7s 302ms/step - loss: 2.2519 - accuracy: 0.8307 - val_loss: 0.3701 - val_accuracy: 0.8497\n",
      "Epoch 4/8\n",
      "22/22 [==============================] - 7s 304ms/step - loss: 1.1996 - accuracy: 0.8567 - val_loss: 0.2190 - val_accuracy: 0.8902\n",
      "Epoch 5/8\n",
      "22/22 [==============================] - 7s 315ms/step - loss: 0.9285 - accuracy: 0.8871 - val_loss: 0.2575 - val_accuracy: 0.9017\n",
      "Epoch 6/8\n",
      "22/22 [==============================] - 7s 304ms/step - loss: 0.7062 - accuracy: 0.9117 - val_loss: 0.1906 - val_accuracy: 0.9364\n",
      "Epoch 7/8\n",
      "22/22 [==============================] - 7s 303ms/step - loss: 0.6452 - accuracy: 0.9161 - val_loss: 0.1214 - val_accuracy: 0.9595\n",
      "Epoch 8/8\n",
      "22/22 [==============================] - 7s 302ms/step - loss: 0.5227 - accuracy: 0.9247 - val_loss: 0.0949 - val_accuracy: 0.9711\n"
     ]
    }
   ],
   "source": [
    "model, history = cnn(x_train_duplicated, y_train_duplicated)"
   ]
  },
  {
   "cell_type": "markdown",
   "metadata": {},
   "source": [
    "## Train and Evaluate the model"
   ]
  },
  {
   "cell_type": "code",
   "execution_count": 105,
   "metadata": {},
   "outputs": [],
   "source": [
    "import matplotlib.pyplot as plt\n",
    "\n",
    "def plot_accuracy_and_loss(history):\n",
    "    plt.figure(figsize = (20, 10))\n",
    "    plt.subplot(1, 2, 1)\n",
    "    plt.suptitle('Optimizer: Adam', fontsize = 16)\n",
    "    plt.ylabel('Loss', fontsize = 16)\n",
    "    plt.plot(history.history['loss'], label = 'Training Loss')\n",
    "    plt.plot(history.history['val_loss'], label = 'Validation Loss')\n",
    "    plt.legend(loc = 'upper right')\n",
    "    plt.subplot(1, 2, 2)\n",
    "    plt.ylabel('Accuracy', fontsize = 16)\n",
    "    plt.plot(history.history['accuracy'], label = 'Training Accuracy')\n",
    "    plt.plot(history.history['val_accuracy'], label = 'Validation Accuracy')\n",
    "    plt.legend(loc = 'lower right')\n",
    "    plt.show()"
   ]
  },
  {
   "cell_type": "code",
   "execution_count": 106,
   "metadata": {},
   "outputs": [
    {
     "data": {
      "image/png": "[encoded data removed]",
      "text/plain": [
       "<Figure size 1440x720 with 2 Axes>"
      ]
     },
     "metadata": {},
     "output_type": "display_data"
    }
   ],
   "source": [
    "plot_accuracy_and_loss(history)"
   ]
  },
  {
   "cell_type": "markdown",
   "metadata": {},
   "source": [
    "### Evaluation"
   ]
  },
  {
   "cell_type": "code",
   "execution_count": 107,
   "metadata": {},
   "outputs": [
    {
     "name": "stdout",
     "output_type": "stream",
     "text": [
      "2/2 [==============================] - 0s 20ms/step\n"
     ]
    }
   ],
   "source": [
    "# Prediction\n",
    "y_pred = model.predict(x_test)"
   ]
  },
  {
   "cell_type": "code",
   "execution_count": 108,
   "metadata": {},
   "outputs": [],
   "source": [
    "y_test_ = [i[0] for i in y_test]\n",
    "y_pred_ = [round(i[0]) for i in y_pred]"
   ]
  },
  {
   "cell_type": "code",
   "execution_count": 109,
   "metadata": {},
   "outputs": [],
   "source": [
    "def plot_confusion_matrix(ytest, ypred, classes, title = 'Confusion matrix', cmap = plt.cm.Blues):\n",
    "    cnf_matrix = confusion_matrix(ytest, ypred)\n",
    "    cm = cnf_matrix\n",
    "    np.set_printoptions(precision = 2)    \n",
    "    cm = cm.astype('float') / cm.sum(axis = 1)[:, np.newaxis]\n",
    "    plt.imshow(cm, interpolation = 'nearest', cmap = cmap)\n",
    "    plt.title(title)\n",
    "    plt.colorbar()\n",
    "    tick_marks = np.arange(len(classes))\n",
    "    plt.xticks(tick_marks, classes, rotation = 45)\n",
    "    plt.yticks(tick_marks, classes)\n",
    "    fmt = '.2f'\n",
    "    thresh = cm.max() / 2.\n",
    "    for i, j in itertools.product(range(cm.shape[0]), range(cm.shape[1])):\n",
    "        plt.text(j, i, format(cm[i, j], fmt),\n",
    "                 horizontalalignment = \"center\", size = \"x-large\",\n",
    "                 color = \"white\" if cm[i, j] > thresh else \"black\")\n",
    "    plt.ylabel('True label')\n",
    "    plt.xlabel('Predicted label')\n",
    "    plt.tight_layout()\n",
    "    sb.set_style(\"dark\")\n",
    "    plt.figure()\n",
    "    plt.show()  "
   ]
  },
  {
   "cell_type": "code",
   "execution_count": 110,
   "metadata": {},
   "outputs": [
    {
     "data": {
      "image/png": "[encoded data removed]",
      "text/plain": [
       "<Figure size 432x288 with 2 Axes>"
      ]
     },
     "metadata": {},
     "output_type": "display_data"
    },
    {
     "data": {
      "text/plain": [
       "<Figure size 432x288 with 0 Axes>"
      ]
     },
     "metadata": {},
     "output_type": "display_data"
    }
   ],
   "source": [
    "labels = [1, 0]\n",
    "plot_confusion_matrix(y_test.argmax(axis = 1), y_pred.argmax(axis = 1), labels, title = 'Confusion matrix', cmap = plt.cm.Blues)"
   ]
  },
  {
   "cell_type": "markdown",
   "metadata": {},
   "source": [
    "## Get predictions"
   ]
  },
  {
   "cell_type": "markdown",
   "metadata": {},
   "source": [
    "### Load text"
   ]
  },
  {
   "cell_type": "code",
   "execution_count": 111,
   "metadata": {},
   "outputs": [],
   "source": [
    "txt_to_classify_file = os.path.join(colab_path, data_base_name, \"text to classify.txt\")\n",
    "with open(txt_to_classify_file, \"r\", encoding = \"utf-8\") as txt_file:\n",
    "    txt_to_classify = txt_file.read()"
   ]
  },
  {
   "cell_type": "markdown",
   "metadata": {},
   "source": [
    "### Split the text into sentences and get tokens (WV)"
   ]
  },
  {
   "cell_type": "code",
   "execution_count": 112,
   "metadata": {},
   "outputs": [],
   "source": [
    "phrases = txt_to_classify.split(\"\\n\")\n",
    "phrases = [x for x in phrases if str(x) != '']\n",
    "for phrase in phrases:\n",
    "    processed_text = preprocessing_stage(phrase)\n",
    "    if processed_text != '':\n",
    "        preprocessed_phrases.append(processed_text)\n",
    "        wv = arabBert_algorithm(preprocessed_phrases[-1], tokenizer, emb_dim)\n",
    "        wv = np.pad(wv.reshape(-1), (0, emb_dim), 'constant')\n",
    "        wv_phrases.append(wv[:emb_dim])\n",
    "        labels.append(label)"
   ]
  },
  {
   "cell_type": "code",
   "execution_count": 113,
   "metadata": {},
   "outputs": [],
   "source": [
    "# One Hot encoding the labels: \n",
    "# 0 (Impostors) ------> [0, 1],\n",
    "# 1 (Holly Koran) ------> [1, 0]\n",
    "Xs = []\n",
    "Y_tmp2 = []\n",
    "indices = [i for i, y in enumerate(Y_tmp1) if len(np.unique(y)) > 1]\n",
    "for ii in range(len(X_1)):\n",
    "    if ii not in indices:\n",
    "        Xs.append(X_1[ii])\n",
    "        Y_tmp2.append(Y_tmp1[ii])\n",
    "Xs = np.asarray(Xs)\n",
    "\n",
    "Y = []\n",
    "for y in Y_tmp2:\n",
    "    if max(y) == 1:\n",
    "        Y.append([1, 0])\n",
    "    else:\n",
    "        Y.append([0, 1])        "
   ]
  },
  {
   "cell_type": "code",
   "execution_count": 114,
   "metadata": {},
   "outputs": [
    {
     "name": "stdout",
     "output_type": "stream",
     "text": [
      "2/2 [==============================] - 0s 24ms/step - loss: 0.4138 - accuracy: 0.8889\n"
     ]
    },
    {
     "data": {
      "text/plain": [
       "[0.41378599405288696, 0.8888888955116272]"
      ]
     },
     "execution_count": 114,
     "metadata": {},
     "output_type": "execute_result"
    }
   ],
   "source": [
    "model.evaluate(x_test, y_test)"
   ]
  },
  {
   "cell_type": "code",
   "execution_count": 115,
   "metadata": {},
   "outputs": [
    {
     "name": "stdout",
     "output_type": "stream",
     "text": [
      "9/9 [==============================] - 0s 18ms/step\n"
     ]
    }
   ],
   "source": [
    "prediction = model.predict(Xs)"
   ]
  },
  {
   "cell_type": "code",
   "execution_count": 116,
   "metadata": {},
   "outputs": [
    {
     "name": "stdout",
     "output_type": "stream",
     "text": [
      "This text is classed as 1\n",
      "The label 1 correspond to Holly Koran\n"
     ]
    }
   ],
   "source": [
    "if prediction[0].argmax() == 1:\n",
    "    res = \"Holly Koran\"\n",
    "else:\n",
    "    res = \"Others\"\n",
    "print(f\"This text is classed as {prediction[0].argmax()}\")\n",
    "print(f\"The label {prediction[0].argmax()} correspond to {res}\")"
   ]
  }
 ],
 "metadata": {
  "kernelspec": {
   "display_name": "Python 3 (ipykernel)",
   "language": "python",
   "name": "python3"
  },
  "language_info": {
   "codemirror_mode": {
    "name": "ipython",
    "version": 3
   },
   "file_extension": ".py",
   "mimetype": "text/x-python",
   "name": "python",
   "nbconvert_exporter": "python",
   "pygments_lexer": "ipython3",
   "version": "3.9.7"
  },
  "vscode": {
   "interpreter": {
    "hash": "173fe52379437b78f95c8980b8ee9f2930fd7b56889ab31a72735475ddc10c81"
   }
  }
 },
 "nbformat": 4,
 "nbformat_minor": 2
}
